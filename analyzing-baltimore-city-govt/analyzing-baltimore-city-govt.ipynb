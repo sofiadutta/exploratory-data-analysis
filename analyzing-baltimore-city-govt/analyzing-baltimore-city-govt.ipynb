{
 "cells": [
  {
   "cell_type": "markdown",
   "metadata": {},
   "source": [
    "# Project 1 - Data Characterization"
   ]
  },
  {
   "cell_type": "markdown",
   "metadata": {},
   "source": [
    "The data I obtained shows the gross and annual salaries for employees of the Baltimore City Government, from July 2017 to June 2018.\n",
    "\n",
    "I found this data through the suggestions for project 1 ideas on Blackboard.\n",
    "\n",
    "I thought given the income inequality discussions around tax season and new tax laws being implemented this year, I would study if there is any income inequality in Baltimore City Government.\n",
    "\n",
    "\n",
    "* The data source for the project can be downloaded from this [link](https://data.baltimorecity.gov/api/views/biyh-j8tc/rows.csv?accessType=DOWNLOAD). The source website is [Baltimore City Open Government site](https://data.baltimorecity.gov/City-Government/Baltimore-City-Employee-Salaries-FY2018/biyh-j8tc)\n",
    "* The file I downloaded from the url above is named \"Baltimore_City_Employee_Salaries_FY2018.csv\".\n",
    "* There is no cost to accessing this data.\n",
    "* Accessing this data does not require creation of an account.\n",
    "* Accessing this data does not violate any laws.\n",
    "* This data does not appear to have been previously analyzed based on a Google search.\n",
    "* A preliminary survey of the data indicates there are 13,683 rows, 7 columns, and the file size is 1.5 MB. "
   ]
  },
  {
   "cell_type": "code",
   "execution_count": 1,
   "metadata": {},
   "outputs": [
    {
     "name": "stdout",
     "output_type": "stream",
     "text": [
      "Pandas 0.23.4\n",
      "File Size In MB :  1.4774866104125977  MB\n"
     ]
    }
   ],
   "source": [
    "import pandas as pd\n",
    "import time\n",
    "import datetime\n",
    "import chardet\n",
    "import missingno as msno\n",
    "import matplotlib.pyplot as plt\n",
    "import seaborn as sns\n",
    "%matplotlib inline\n",
    "import warnings\n",
    "warnings.filterwarnings(\"ignore\")\n",
    "print('Pandas',pd.__version__)\n",
    "start_time = time.time()\n",
    "import os\n",
    "print('File Size In MB : ',(os.path.getsize('Baltimore_City_Employee_Salaries_FY2018.csv')/1048576),' MB')"
   ]
  },
  {
   "cell_type": "markdown",
   "metadata": {},
   "source": [
    "## Exploring data\n",
    "**Encoding check for the input CSV file to ensure data is in the right format**"
   ]
  },
  {
   "cell_type": "code",
   "execution_count": 2,
   "metadata": {},
   "outputs": [],
   "source": [
    "with open('Baltimore_City_Employee_Salaries_FY2018.csv','rb') as fraw:\n",
    "    file_content = fraw.read()"
   ]
  },
  {
   "cell_type": "code",
   "execution_count": 3,
   "metadata": {},
   "outputs": [
    {
     "data": {
      "text/plain": [
       "{'encoding': 'ascii', 'confidence': 1.0, 'language': ''}"
      ]
     },
     "execution_count": 3,
     "metadata": {},
     "output_type": "execute_result"
    }
   ],
   "source": [
    "chardet.detect(file_content)"
   ]
  },
  {
   "cell_type": "markdown",
   "metadata": {},
   "source": [
    "**Character encoding of the CSV file is ascii and confidence level is 1(100%).**\n",
    "\n",
    "Exploring file contents from the CSV:"
   ]
  },
  {
   "cell_type": "code",
   "execution_count": 4,
   "metadata": {},
   "outputs": [
    {
     "name": "stdout",
     "output_type": "stream",
     "text": [
      "NAME,JOBTITLE,DEPTID,DESCR,HIRE_DT,ANNUAL_RT,GROSS\n",
      "\"Aaron,Patricia G\",Facilities/Office Services II,A03031,OED-Employment Dev (031),10/24/1979 12:00:00 AM,60200.00,58480.46\n",
      "\"Aaron,Petra L\",Assistant State's Attorney,A29045,States Attorneys Office (045),09/25/2006 12:00:00 AM,81200.00,79220.72\n"
     ]
    }
   ],
   "source": [
    "!head -n 3 Baltimore_City_Employee_Salaries_FY2018.csv"
   ]
  },
  {
   "cell_type": "markdown",
   "metadata": {},
   "source": [
    "**Next, I will extract data from the CSV file and insert into a dataframe for processing**"
   ]
  },
  {
   "cell_type": "code",
   "execution_count": 5,
   "metadata": {},
   "outputs": [
    {
     "name": "stdout",
     "output_type": "stream",
     "text": [
      "Time taken to load the data :  0.11579513549804688 seconds\n"
     ]
    },
    {
     "data": {
      "text/plain": [
       "(13683, 7)"
      ]
     },
     "execution_count": 5,
     "metadata": {},
     "output_type": "execute_result"
    }
   ],
   "source": [
    "pd.options.display.max_rows = 40\n",
    "start_time_before_load = time.time()\n",
    "salary_df = pd.read_csv(\"Baltimore_City_Employee_Salaries_FY2018.csv\")\n",
    "print('Time taken to load the data : ',time.time() - start_time_before_load,'seconds')\n",
    "salary_df.shape"
   ]
  },
  {
   "cell_type": "markdown",
   "metadata": {},
   "source": [
    "The csv/dataframe contains 13683 rows and 7 columns\n",
    "\n",
    "Let us explore the data a bit using head(), tail(), info(), describe()"
   ]
  },
  {
   "cell_type": "code",
   "execution_count": 6,
   "metadata": {},
   "outputs": [
    {
     "data": {
      "text/html": [
       "<div>\n",
       "<style scoped>\n",
       "    .dataframe tbody tr th:only-of-type {\n",
       "        vertical-align: middle;\n",
       "    }\n",
       "\n",
       "    .dataframe tbody tr th {\n",
       "        vertical-align: top;\n",
       "    }\n",
       "\n",
       "    .dataframe thead th {\n",
       "        text-align: right;\n",
       "    }\n",
       "</style>\n",
       "<table border=\"1\" class=\"dataframe\">\n",
       "  <thead>\n",
       "    <tr style=\"text-align: right;\">\n",
       "      <th></th>\n",
       "      <th>NAME</th>\n",
       "      <th>JOBTITLE</th>\n",
       "      <th>DEPTID</th>\n",
       "      <th>DESCR</th>\n",
       "      <th>HIRE_DT</th>\n",
       "      <th>ANNUAL_RT</th>\n",
       "      <th>GROSS</th>\n",
       "    </tr>\n",
       "  </thead>\n",
       "  <tbody>\n",
       "    <tr>\n",
       "      <th>0</th>\n",
       "      <td>Aaron,Patricia G</td>\n",
       "      <td>Facilities/Office Services II</td>\n",
       "      <td>A03031</td>\n",
       "      <td>OED-Employment Dev (031)</td>\n",
       "      <td>10/24/1979 12:00:00 AM</td>\n",
       "      <td>60200.0</td>\n",
       "      <td>58480.46</td>\n",
       "    </tr>\n",
       "    <tr>\n",
       "      <th>1</th>\n",
       "      <td>Aaron,Petra L</td>\n",
       "      <td>Assistant State's Attorney</td>\n",
       "      <td>A29045</td>\n",
       "      <td>States Attorneys Office (045)</td>\n",
       "      <td>09/25/2006 12:00:00 AM</td>\n",
       "      <td>81200.0</td>\n",
       "      <td>79220.72</td>\n",
       "    </tr>\n",
       "    <tr>\n",
       "      <th>2</th>\n",
       "      <td>Abadir,Adam O</td>\n",
       "      <td>Council Technician</td>\n",
       "      <td>A02002</td>\n",
       "      <td>City Council (002)</td>\n",
       "      <td>12/12/2016 12:00:00 AM</td>\n",
       "      <td>64823.0</td>\n",
       "      <td>57375.31</td>\n",
       "    </tr>\n",
       "    <tr>\n",
       "      <th>3</th>\n",
       "      <td>Abaku,Aigbolosimuan O</td>\n",
       "      <td>Police Officer Trainee</td>\n",
       "      <td>A99416</td>\n",
       "      <td>Police Department (416)</td>\n",
       "      <td>04/17/2018 12:00:00 AM</td>\n",
       "      <td>50440.0</td>\n",
       "      <td>11881.34</td>\n",
       "    </tr>\n",
       "    <tr>\n",
       "      <th>4</th>\n",
       "      <td>Abbeduto,Mack</td>\n",
       "      <td>Law Clerk SAO</td>\n",
       "      <td>A29017</td>\n",
       "      <td>States Attorneys Office (017)</td>\n",
       "      <td>05/22/2017 12:00:00 AM</td>\n",
       "      <td>38926.0</td>\n",
       "      <td>35138.40</td>\n",
       "    </tr>\n",
       "  </tbody>\n",
       "</table>\n",
       "</div>"
      ],
      "text/plain": [
       "                    NAME                       JOBTITLE  DEPTID  \\\n",
       "0       Aaron,Patricia G  Facilities/Office Services II  A03031   \n",
       "1          Aaron,Petra L     Assistant State's Attorney  A29045   \n",
       "2          Abadir,Adam O             Council Technician  A02002   \n",
       "3  Abaku,Aigbolosimuan O         Police Officer Trainee  A99416   \n",
       "4          Abbeduto,Mack                  Law Clerk SAO  A29017   \n",
       "\n",
       "                           DESCR                 HIRE_DT  ANNUAL_RT     GROSS  \n",
       "0       OED-Employment Dev (031)  10/24/1979 12:00:00 AM    60200.0  58480.46  \n",
       "1  States Attorneys Office (045)  09/25/2006 12:00:00 AM    81200.0  79220.72  \n",
       "2             City Council (002)  12/12/2016 12:00:00 AM    64823.0  57375.31  \n",
       "3        Police Department (416)  04/17/2018 12:00:00 AM    50440.0  11881.34  \n",
       "4  States Attorneys Office (017)  05/22/2017 12:00:00 AM    38926.0  35138.40  "
      ]
     },
     "execution_count": 6,
     "metadata": {},
     "output_type": "execute_result"
    }
   ],
   "source": [
    "salary_df.head()"
   ]
  },
  {
   "cell_type": "code",
   "execution_count": 7,
   "metadata": {},
   "outputs": [
    {
     "data": {
      "text/html": [
       "<div>\n",
       "<style scoped>\n",
       "    .dataframe tbody tr th:only-of-type {\n",
       "        vertical-align: middle;\n",
       "    }\n",
       "\n",
       "    .dataframe tbody tr th {\n",
       "        vertical-align: top;\n",
       "    }\n",
       "\n",
       "    .dataframe thead th {\n",
       "        text-align: right;\n",
       "    }\n",
       "</style>\n",
       "<table border=\"1\" class=\"dataframe\">\n",
       "  <thead>\n",
       "    <tr style=\"text-align: right;\">\n",
       "      <th></th>\n",
       "      <th>NAME</th>\n",
       "      <th>JOBTITLE</th>\n",
       "      <th>DEPTID</th>\n",
       "      <th>DESCR</th>\n",
       "      <th>HIRE_DT</th>\n",
       "      <th>ANNUAL_RT</th>\n",
       "      <th>GROSS</th>\n",
       "    </tr>\n",
       "  </thead>\n",
       "  <tbody>\n",
       "    <tr>\n",
       "      <th>13678</th>\n",
       "      <td>Zorzi,Matthew J</td>\n",
       "      <td>Recreation Leader II</td>\n",
       "      <td>A04009</td>\n",
       "      <td>R&amp;P-Recreation (009)</td>\n",
       "      <td>07/07/2016 12:00:00 AM</td>\n",
       "      <td>33199.0</td>\n",
       "      <td>34888.80</td>\n",
       "    </tr>\n",
       "    <tr>\n",
       "      <th>13679</th>\n",
       "      <td>Zou,Zhi Fan</td>\n",
       "      <td>Police Cadet</td>\n",
       "      <td>A99416</td>\n",
       "      <td>Police Department (416)</td>\n",
       "      <td>04/11/2018 12:00:00 AM</td>\n",
       "      <td>31388.0</td>\n",
       "      <td>7650.19</td>\n",
       "    </tr>\n",
       "    <tr>\n",
       "      <th>13680</th>\n",
       "      <td>Zovistoski,Zachary D</td>\n",
       "      <td>Police Officer</td>\n",
       "      <td>A99006</td>\n",
       "      <td>Police Department (006)</td>\n",
       "      <td>12/17/2013 12:00:00 AM</td>\n",
       "      <td>64556.0</td>\n",
       "      <td>75743.78</td>\n",
       "    </tr>\n",
       "    <tr>\n",
       "      <th>13681</th>\n",
       "      <td>Zuhoski,Timothy C</td>\n",
       "      <td>Police Officer Trainee</td>\n",
       "      <td>A99261</td>\n",
       "      <td>Police Department (261)</td>\n",
       "      <td>01/31/2017 12:00:00 AM</td>\n",
       "      <td>50561.0</td>\n",
       "      <td>60078.31</td>\n",
       "    </tr>\n",
       "    <tr>\n",
       "      <th>13682</th>\n",
       "      <td>Zuniga,Linette</td>\n",
       "      <td>Grant Services Specialist I</td>\n",
       "      <td>A65527</td>\n",
       "      <td>HLTH-Health Department (527)</td>\n",
       "      <td>10/20/2016 12:00:00 AM</td>\n",
       "      <td>29129.0</td>\n",
       "      <td>22817.57</td>\n",
       "    </tr>\n",
       "  </tbody>\n",
       "</table>\n",
       "</div>"
      ],
      "text/plain": [
       "                       NAME                     JOBTITLE  DEPTID  \\\n",
       "13678       Zorzi,Matthew J         Recreation Leader II  A04009   \n",
       "13679           Zou,Zhi Fan                 Police Cadet  A99416   \n",
       "13680  Zovistoski,Zachary D               Police Officer  A99006   \n",
       "13681     Zuhoski,Timothy C       Police Officer Trainee  A99261   \n",
       "13682        Zuniga,Linette  Grant Services Specialist I  A65527   \n",
       "\n",
       "                              DESCR                 HIRE_DT  ANNUAL_RT  \\\n",
       "13678          R&P-Recreation (009)  07/07/2016 12:00:00 AM    33199.0   \n",
       "13679       Police Department (416)  04/11/2018 12:00:00 AM    31388.0   \n",
       "13680       Police Department (006)  12/17/2013 12:00:00 AM    64556.0   \n",
       "13681       Police Department (261)  01/31/2017 12:00:00 AM    50561.0   \n",
       "13682  HLTH-Health Department (527)  10/20/2016 12:00:00 AM    29129.0   \n",
       "\n",
       "          GROSS  \n",
       "13678  34888.80  \n",
       "13679   7650.19  \n",
       "13680  75743.78  \n",
       "13681  60078.31  \n",
       "13682  22817.57  "
      ]
     },
     "execution_count": 7,
     "metadata": {},
     "output_type": "execute_result"
    }
   ],
   "source": [
    "salary_df.tail()"
   ]
  },
  {
   "cell_type": "code",
   "execution_count": 8,
   "metadata": {},
   "outputs": [
    {
     "name": "stdout",
     "output_type": "stream",
     "text": [
      "<class 'pandas.core.frame.DataFrame'>\n",
      "RangeIndex: 13683 entries, 0 to 13682\n",
      "Data columns (total 7 columns):\n",
      "NAME         13683 non-null object\n",
      "JOBTITLE     13683 non-null object\n",
      "DEPTID       13683 non-null object\n",
      "DESCR        13683 non-null object\n",
      "HIRE_DT      13680 non-null object\n",
      "ANNUAL_RT    13683 non-null float64\n",
      "GROSS        13522 non-null float64\n",
      "dtypes: float64(2), object(5)\n",
      "memory usage: 748.4+ KB\n"
     ]
    }
   ],
   "source": [
    "salary_df.info()"
   ]
  },
  {
   "cell_type": "code",
   "execution_count": 9,
   "metadata": {},
   "outputs": [
    {
     "data": {
      "text/html": [
       "<div>\n",
       "<style scoped>\n",
       "    .dataframe tbody tr th:only-of-type {\n",
       "        vertical-align: middle;\n",
       "    }\n",
       "\n",
       "    .dataframe tbody tr th {\n",
       "        vertical-align: top;\n",
       "    }\n",
       "\n",
       "    .dataframe thead th {\n",
       "        text-align: right;\n",
       "    }\n",
       "</style>\n",
       "<table border=\"1\" class=\"dataframe\">\n",
       "  <thead>\n",
       "    <tr style=\"text-align: right;\">\n",
       "      <th></th>\n",
       "      <th>ANNUAL_RT</th>\n",
       "      <th>GROSS</th>\n",
       "    </tr>\n",
       "  </thead>\n",
       "  <tbody>\n",
       "    <tr>\n",
       "      <th>count</th>\n",
       "      <td>13683.000000</td>\n",
       "      <td>13522.000000</td>\n",
       "    </tr>\n",
       "    <tr>\n",
       "      <th>mean</th>\n",
       "      <td>56751.774026</td>\n",
       "      <td>60729.312142</td>\n",
       "    </tr>\n",
       "    <tr>\n",
       "      <th>std</th>\n",
       "      <td>25491.250161</td>\n",
       "      <td>36197.335957</td>\n",
       "    </tr>\n",
       "    <tr>\n",
       "      <th>min</th>\n",
       "      <td>1800.000000</td>\n",
       "      <td>0.000000</td>\n",
       "    </tr>\n",
       "    <tr>\n",
       "      <th>25%</th>\n",
       "      <td>36399.500000</td>\n",
       "      <td>37509.352500</td>\n",
       "    </tr>\n",
       "    <tr>\n",
       "      <th>50%</th>\n",
       "      <td>52456.000000</td>\n",
       "      <td>57060.665000</td>\n",
       "    </tr>\n",
       "    <tr>\n",
       "      <th>75%</th>\n",
       "      <td>73440.000000</td>\n",
       "      <td>81730.975000</td>\n",
       "    </tr>\n",
       "    <tr>\n",
       "      <th>max</th>\n",
       "      <td>250000.000000</td>\n",
       "      <td>250197.500000</td>\n",
       "    </tr>\n",
       "  </tbody>\n",
       "</table>\n",
       "</div>"
      ],
      "text/plain": [
       "           ANNUAL_RT          GROSS\n",
       "count   13683.000000   13522.000000\n",
       "mean    56751.774026   60729.312142\n",
       "std     25491.250161   36197.335957\n",
       "min      1800.000000       0.000000\n",
       "25%     36399.500000   37509.352500\n",
       "50%     52456.000000   57060.665000\n",
       "75%     73440.000000   81730.975000\n",
       "max    250000.000000  250197.500000"
      ]
     },
     "execution_count": 9,
     "metadata": {},
     "output_type": "execute_result"
    }
   ],
   "source": [
    "salary_df.describe()"
   ]
  },
  {
   "cell_type": "code",
   "execution_count": 10,
   "metadata": {},
   "outputs": [
    {
     "data": {
      "text/html": [
       "<div>\n",
       "<style scoped>\n",
       "    .dataframe tbody tr th:only-of-type {\n",
       "        vertical-align: middle;\n",
       "    }\n",
       "\n",
       "    .dataframe tbody tr th {\n",
       "        vertical-align: top;\n",
       "    }\n",
       "\n",
       "    .dataframe thead th {\n",
       "        text-align: right;\n",
       "    }\n",
       "</style>\n",
       "<table border=\"1\" class=\"dataframe\">\n",
       "  <thead>\n",
       "    <tr style=\"text-align: right;\">\n",
       "      <th></th>\n",
       "      <th>NAME</th>\n",
       "      <th>JOBTITLE</th>\n",
       "      <th>DEPTID</th>\n",
       "      <th>DESCR</th>\n",
       "      <th>HIRE_DT</th>\n",
       "      <th>ANNUAL_RT</th>\n",
       "      <th>GROSS</th>\n",
       "    </tr>\n",
       "  </thead>\n",
       "  <tbody>\n",
       "    <tr>\n",
       "      <th>count</th>\n",
       "      <td>13683</td>\n",
       "      <td>13683</td>\n",
       "      <td>13683</td>\n",
       "      <td>13683</td>\n",
       "      <td>13680</td>\n",
       "      <td>13683.000000</td>\n",
       "      <td>13522.000000</td>\n",
       "    </tr>\n",
       "    <tr>\n",
       "      <th>unique</th>\n",
       "      <td>13472</td>\n",
       "      <td>1012</td>\n",
       "      <td>673</td>\n",
       "      <td>672</td>\n",
       "      <td>4636</td>\n",
       "      <td>NaN</td>\n",
       "      <td>NaN</td>\n",
       "    </tr>\n",
       "    <tr>\n",
       "      <th>top</th>\n",
       "      <td>Thomas,Stacey</td>\n",
       "      <td>Police Officer</td>\n",
       "      <td>C90786</td>\n",
       "      <td>R&amp;P-Recreation (part-time) (</td>\n",
       "      <td>06/23/2007 12:00:00 AM</td>\n",
       "      <td>NaN</td>\n",
       "      <td>NaN</td>\n",
       "    </tr>\n",
       "    <tr>\n",
       "      <th>freq</th>\n",
       "      <td>3</td>\n",
       "      <td>1423</td>\n",
       "      <td>230</td>\n",
       "      <td>330</td>\n",
       "      <td>78</td>\n",
       "      <td>NaN</td>\n",
       "      <td>NaN</td>\n",
       "    </tr>\n",
       "    <tr>\n",
       "      <th>mean</th>\n",
       "      <td>NaN</td>\n",
       "      <td>NaN</td>\n",
       "      <td>NaN</td>\n",
       "      <td>NaN</td>\n",
       "      <td>NaN</td>\n",
       "      <td>56751.774026</td>\n",
       "      <td>60729.312142</td>\n",
       "    </tr>\n",
       "    <tr>\n",
       "      <th>std</th>\n",
       "      <td>NaN</td>\n",
       "      <td>NaN</td>\n",
       "      <td>NaN</td>\n",
       "      <td>NaN</td>\n",
       "      <td>NaN</td>\n",
       "      <td>25491.250161</td>\n",
       "      <td>36197.335957</td>\n",
       "    </tr>\n",
       "    <tr>\n",
       "      <th>min</th>\n",
       "      <td>NaN</td>\n",
       "      <td>NaN</td>\n",
       "      <td>NaN</td>\n",
       "      <td>NaN</td>\n",
       "      <td>NaN</td>\n",
       "      <td>1800.000000</td>\n",
       "      <td>0.000000</td>\n",
       "    </tr>\n",
       "    <tr>\n",
       "      <th>25%</th>\n",
       "      <td>NaN</td>\n",
       "      <td>NaN</td>\n",
       "      <td>NaN</td>\n",
       "      <td>NaN</td>\n",
       "      <td>NaN</td>\n",
       "      <td>36399.500000</td>\n",
       "      <td>37509.352500</td>\n",
       "    </tr>\n",
       "    <tr>\n",
       "      <th>50%</th>\n",
       "      <td>NaN</td>\n",
       "      <td>NaN</td>\n",
       "      <td>NaN</td>\n",
       "      <td>NaN</td>\n",
       "      <td>NaN</td>\n",
       "      <td>52456.000000</td>\n",
       "      <td>57060.665000</td>\n",
       "    </tr>\n",
       "    <tr>\n",
       "      <th>75%</th>\n",
       "      <td>NaN</td>\n",
       "      <td>NaN</td>\n",
       "      <td>NaN</td>\n",
       "      <td>NaN</td>\n",
       "      <td>NaN</td>\n",
       "      <td>73440.000000</td>\n",
       "      <td>81730.975000</td>\n",
       "    </tr>\n",
       "    <tr>\n",
       "      <th>max</th>\n",
       "      <td>NaN</td>\n",
       "      <td>NaN</td>\n",
       "      <td>NaN</td>\n",
       "      <td>NaN</td>\n",
       "      <td>NaN</td>\n",
       "      <td>250000.000000</td>\n",
       "      <td>250197.500000</td>\n",
       "    </tr>\n",
       "  </tbody>\n",
       "</table>\n",
       "</div>"
      ],
      "text/plain": [
       "                 NAME        JOBTITLE  DEPTID                         DESCR  \\\n",
       "count           13683           13683   13683                         13683   \n",
       "unique          13472            1012     673                           672   \n",
       "top     Thomas,Stacey  Police Officer  C90786  R&P-Recreation (part-time) (   \n",
       "freq                3            1423     230                           330   \n",
       "mean              NaN             NaN     NaN                           NaN   \n",
       "std               NaN             NaN     NaN                           NaN   \n",
       "min               NaN             NaN     NaN                           NaN   \n",
       "25%               NaN             NaN     NaN                           NaN   \n",
       "50%               NaN             NaN     NaN                           NaN   \n",
       "75%               NaN             NaN     NaN                           NaN   \n",
       "max               NaN             NaN     NaN                           NaN   \n",
       "\n",
       "                       HIRE_DT      ANNUAL_RT          GROSS  \n",
       "count                    13680   13683.000000   13522.000000  \n",
       "unique                    4636            NaN            NaN  \n",
       "top     06/23/2007 12:00:00 AM            NaN            NaN  \n",
       "freq                        78            NaN            NaN  \n",
       "mean                       NaN   56751.774026   60729.312142  \n",
       "std                        NaN   25491.250161   36197.335957  \n",
       "min                        NaN    1800.000000       0.000000  \n",
       "25%                        NaN   36399.500000   37509.352500  \n",
       "50%                        NaN   52456.000000   57060.665000  \n",
       "75%                        NaN   73440.000000   81730.975000  \n",
       "max                        NaN  250000.000000  250197.500000  "
      ]
     },
     "execution_count": 10,
     "metadata": {},
     "output_type": "execute_result"
    }
   ],
   "source": [
    "salary_df.describe(include='all')"
   ]
  },
  {
   "cell_type": "code",
   "execution_count": 11,
   "metadata": {},
   "outputs": [
    {
     "data": {
      "text/html": [
       "<div>\n",
       "<style scoped>\n",
       "    .dataframe tbody tr th:only-of-type {\n",
       "        vertical-align: middle;\n",
       "    }\n",
       "\n",
       "    .dataframe tbody tr th {\n",
       "        vertical-align: top;\n",
       "    }\n",
       "\n",
       "    .dataframe thead th {\n",
       "        text-align: right;\n",
       "    }\n",
       "</style>\n",
       "<table border=\"1\" class=\"dataframe\">\n",
       "  <thead>\n",
       "    <tr style=\"text-align: right;\">\n",
       "      <th></th>\n",
       "      <th>NAME</th>\n",
       "      <th>JOBTITLE</th>\n",
       "      <th>DEPTID</th>\n",
       "      <th>DESCR</th>\n",
       "      <th>HIRE_DT</th>\n",
       "    </tr>\n",
       "  </thead>\n",
       "  <tbody>\n",
       "    <tr>\n",
       "      <th>count</th>\n",
       "      <td>13683</td>\n",
       "      <td>13683</td>\n",
       "      <td>13683</td>\n",
       "      <td>13683</td>\n",
       "      <td>13680</td>\n",
       "    </tr>\n",
       "    <tr>\n",
       "      <th>unique</th>\n",
       "      <td>13472</td>\n",
       "      <td>1012</td>\n",
       "      <td>673</td>\n",
       "      <td>672</td>\n",
       "      <td>4636</td>\n",
       "    </tr>\n",
       "    <tr>\n",
       "      <th>top</th>\n",
       "      <td>Thomas,Stacey</td>\n",
       "      <td>Police Officer</td>\n",
       "      <td>C90786</td>\n",
       "      <td>R&amp;P-Recreation (part-time) (</td>\n",
       "      <td>06/23/2007 12:00:00 AM</td>\n",
       "    </tr>\n",
       "    <tr>\n",
       "      <th>freq</th>\n",
       "      <td>3</td>\n",
       "      <td>1423</td>\n",
       "      <td>230</td>\n",
       "      <td>330</td>\n",
       "      <td>78</td>\n",
       "    </tr>\n",
       "  </tbody>\n",
       "</table>\n",
       "</div>"
      ],
      "text/plain": [
       "                 NAME        JOBTITLE  DEPTID                         DESCR  \\\n",
       "count           13683           13683   13683                         13683   \n",
       "unique          13472            1012     673                           672   \n",
       "top     Thomas,Stacey  Police Officer  C90786  R&P-Recreation (part-time) (   \n",
       "freq                3            1423     230                           330   \n",
       "\n",
       "                       HIRE_DT  \n",
       "count                    13680  \n",
       "unique                    4636  \n",
       "top     06/23/2007 12:00:00 AM  \n",
       "freq                        78  "
      ]
     },
     "execution_count": 11,
     "metadata": {},
     "output_type": "execute_result"
    }
   ],
   "source": [
    "salary_df.describe(include='object')"
   ]
  },
  {
   "cell_type": "markdown",
   "metadata": {},
   "source": [
    "**Next, I will explore the column metadata...**\n",
    "\n",
    "* What are the data types for the columns in our data?\n",
    "* How many unique entries are there in each column where type is object?\n",
    "* Below I will exlpore the first five rows of each column where type is object?\n",
    "    * Why am I exploring unique entries for objects? \n",
    "    * Because there could possibly be categorical data in an object column.\n",
    "    * After finishing the data exploration I will transform these objects into 'category' type"
   ]
  },
  {
   "cell_type": "code",
   "execution_count": 12,
   "metadata": {},
   "outputs": [
    {
     "name": "stdout",
     "output_type": "stream",
     "text": [
      "Total rows in the dataframe: 13683\n",
      "\n",
      " NAME has 13472 unique entries\n",
      "First 5 entries are\n",
      "\n",
      "0         Aaron,Patricia G\n",
      "1            Aaron,Petra L\n",
      "2            Abadir,Adam O\n",
      "3    Abaku,Aigbolosimuan O\n",
      "4            Abbeduto,Mack\n",
      "Name: NAME, dtype: object\n",
      "\n",
      " JOBTITLE has 1012 unique entries\n",
      "First 5 entries are\n",
      "\n",
      "0    Facilities/Office Services II\n",
      "1       Assistant State's Attorney\n",
      "2               Council Technician\n",
      "3           Police Officer Trainee\n",
      "4                    Law Clerk SAO\n",
      "Name: JOBTITLE, dtype: object\n",
      "\n",
      " DEPTID has 673 unique entries\n",
      "First 5 entries are\n",
      "\n",
      "0    A03031\n",
      "1    A29045\n",
      "2    A02002\n",
      "3    A99416\n",
      "4    A29017\n",
      "Name: DEPTID, dtype: object\n",
      "\n",
      " DESCR has 672 unique entries\n",
      "First 5 entries are\n",
      "\n",
      "0         OED-Employment Dev (031)\n",
      "1    States Attorneys Office (045)\n",
      "2               City Council (002)\n",
      "3          Police Department (416)\n",
      "4    States Attorneys Office (017)\n",
      "Name: DESCR, dtype: object\n",
      "\n",
      " HIRE_DT has 4636 unique entries\n",
      "First 5 entries are\n",
      "\n",
      "0    10/24/1979 12:00:00 AM\n",
      "1    09/25/2006 12:00:00 AM\n",
      "2    12/12/2016 12:00:00 AM\n",
      "3    04/17/2018 12:00:00 AM\n",
      "4    05/22/2017 12:00:00 AM\n",
      "Name: HIRE_DT, dtype: object\n"
     ]
    }
   ],
   "source": [
    "first_n_entries=5\n",
    "print('Total rows in the dataframe:', salary_df.shape[0])\n",
    "for col, col_type in salary_df.dtypes.iteritems():\n",
    "    if(col_type=='object'):\n",
    "        print('\\n',col,'has',salary_df[col].nunique(),'unique entries')\n",
    "        print('First', first_n_entries, 'entries are\\n')\n",
    "        print(salary_df[col][0:first_n_entries])"
   ]
  },
  {
   "cell_type": "markdown",
   "metadata": {},
   "source": [
    "* **In the data set, there are five object type columns: NAME, JOBTITLE, DEPTID, DESCR, HIRE_DT**\n",
    "* **There are two numerical columns: ANNUAL_RT, GROSS with data type float64**"
   ]
  },
  {
   "cell_type": "markdown",
   "metadata": {},
   "source": [
    "## Data Type Transformation\n",
    "* **Now, I will count the frequency of these unique values per column and print frequency of top five most frequent elements.**\n",
    "* **I will check if a column with object data type has categorical data or not?**\n",
    "* **If and when necessary, I will perform some transformations on the data.**"
   ]
  },
  {
   "cell_type": "code",
   "execution_count": 13,
   "metadata": {},
   "outputs": [],
   "source": [
    "def uniq_per_col(df,count):\n",
    "    for this_column in df.columns:\n",
    "        print(\"\\n==== \",this_column,\"has\",df[this_column].nunique(),\"unique entries ====\")\n",
    "        print(df[this_column].value_counts().head(count))"
   ]
  },
  {
   "cell_type": "code",
   "execution_count": 14,
   "metadata": {},
   "outputs": [
    {
     "name": "stdout",
     "output_type": "stream",
     "text": [
      "\n",
      "====  NAME has 13472 unique entries ====\n",
      "Thomas,Stacey               3\n",
      "Robinson,Jocelyn            2\n",
      "Williams,Adrian S           2\n",
      "Preston,Sherri              2\n",
      "Spence- Walker,Kennett A    2\n",
      "Name: NAME, dtype: int64\n",
      "\n",
      "====  JOBTITLE has 1012 unique entries ====\n",
      "Police Officer                 1423\n",
      "Laborer Hourly                  522\n",
      "Recreation Arts Instructor      381\n",
      "EMT Firefighter Suppression     351\n",
      "Crossing Guard                  287\n",
      "Name: JOBTITLE, dtype: int64\n",
      "\n",
      "====  DEPTID has 673 unique entries ====\n",
      "C90786    230\n",
      "A99416    200\n",
      "P04001    174\n",
      "P04002    156\n",
      "A85301    144\n",
      "Name: DEPTID, dtype: int64\n",
      "\n",
      "====  DESCR has 672 unique entries ====\n",
      "R&P-Recreation (part-time) (    330\n",
      "TRANS-Crossing Guards (786)     230\n",
      "Police Department (416)         200\n",
      "General Services (301)          144\n",
      "Police Department (386)         119\n",
      "Name: DESCR, dtype: int64\n",
      "\n",
      "====  HIRE_DT has 4636 unique entries ====\n",
      "06/23/2007 12:00:00 AM    78\n",
      "05/27/2017 12:00:00 AM    57\n",
      "07/01/2006 12:00:00 AM    51\n",
      "10/23/2007 12:00:00 AM    48\n",
      "06/24/2006 12:00:00 AM    47\n",
      "Name: HIRE_DT, dtype: int64\n",
      "\n",
      "====  ANNUAL_RT has 1991 unique entries ====\n",
      "21008.0    342\n",
      "24960.0    206\n",
      "50440.0    158\n",
      "66310.0    144\n",
      "86397.0    126\n",
      "Name: ANNUAL_RT, dtype: int64\n",
      "\n",
      "====  GROSS has 13305 unique entries ====\n",
      "161.14      15\n",
      "68668.10    12\n",
      "20124.02    11\n",
      "345.30      10\n",
      "3340.46      9\n",
      "Name: GROSS, dtype: int64\n"
     ]
    }
   ],
   "source": [
    "uniq_per_col(salary_df,5)"
   ]
  },
  {
   "cell_type": "markdown",
   "metadata": {},
   "source": [
    "* By exploring the data I observed that the Jobtitle, DeptId and Descr columns contain categorical data.\n",
    "* I will transform these columns into 'category' data type."
   ]
  },
  {
   "cell_type": "code",
   "execution_count": 15,
   "metadata": {},
   "outputs": [
    {
     "data": {
      "text/plain": [
       "CategoricalDtype(categories=['911 Lead Operator', '911 Operator',\n",
       "                  '911 Operator Supervisor', 'ADM Coordinator',\n",
       "                  'Account Executive', 'Account Executive Supervisor',\n",
       "                  'Accountant I', 'Accountant II', 'Accountant Supervisor',\n",
       "                  'Accounting Assistant I',\n",
       "                  ...\n",
       "                  'Web Developer', 'Welder', 'Whiteprint Machine Opr',\n",
       "                  'Work Study Student', 'Worker's Compensation Contract',\n",
       "                  'Zoning Administrator', 'Zoning Appeals Officer',\n",
       "                  'Zoning Enforcement Officer', 'Zoning Examiner I',\n",
       "                  'Zoning Examiner II'],\n",
       "                 ordered=False)"
      ]
     },
     "execution_count": 15,
     "metadata": {},
     "output_type": "execute_result"
    }
   ],
   "source": [
    "\"\"\"\n",
    "Next, I transform the object data type for JOBTITLE to 'category' data type\n",
    "\"\"\"\n",
    "salary_df['JOBTITLE'] = salary_df['JOBTITLE'].astype('category')\n",
    "salary_df['JOBTITLE'].dtype"
   ]
  },
  {
   "cell_type": "code",
   "execution_count": 16,
   "metadata": {},
   "outputs": [
    {
     "data": {
      "text/plain": [
       "CategoricalDtype(categories=['A01001', 'A01020', 'A01030', 'A02001', 'A02002', 'A02003',\n",
       "                  'A03020', 'A03026', 'A03027', 'A03028',\n",
       "                  ...\n",
       "                  'B70412', 'B70413', 'C90786', 'C90900', 'C90910', 'C90SUM',\n",
       "                  'P04001', 'P04002', 'P83004', 'SCS066'],\n",
       "                 ordered=False)"
      ]
     },
     "execution_count": 16,
     "metadata": {},
     "output_type": "execute_result"
    }
   ],
   "source": [
    "\"\"\"\n",
    "Next, I transform the object data type for DEPTID to 'category' data type\n",
    "\"\"\"\n",
    "salary_df['DEPTID'] = salary_df['DEPTID'].astype('category')\n",
    "salary_df['DEPTID'].dtype"
   ]
  },
  {
   "cell_type": "code",
   "execution_count": 17,
   "metadata": {},
   "outputs": [
    {
     "data": {
      "text/plain": [
       "CategoricalDtype(categories=['COMP-Audits (001)', 'COMP-Audits (002)',\n",
       "                  'COMP-Communication Services', 'COMP-Comptroller's Office',\n",
       "                  'COMP-Real Estate (001)', 'Circuit Court (001)',\n",
       "                  'Circuit Court (003)', 'Circuit Court (009)',\n",
       "                  'Circuit Court (012)', 'Circuit Court (014)',\n",
       "                  ...\n",
       "                  'TRANS-Towing (401)', 'TRANS-Towing (402)',\n",
       "                  'TRANS-Towing (403)', 'TRANS-Traffic (002)',\n",
       "                  'TRANS-Traffic (005)', 'TRANS-Traffic (040)',\n",
       "                  'TRANS-Traffic (041)', 'TRANS-Traffic (042)',\n",
       "                  'TRANS-Traffic (045)', 'TRANS-Traffic (201)'],\n",
       "                 ordered=False)"
      ]
     },
     "execution_count": 17,
     "metadata": {},
     "output_type": "execute_result"
    }
   ],
   "source": [
    "\"\"\"\n",
    "Next, I transform the object data type for DESCR to 'category' data type\n",
    "\"\"\"\n",
    "salary_df['DESCR'] = salary_df['DESCR'].astype('category')\n",
    "salary_df['DESCR'].dtype"
   ]
  },
  {
   "cell_type": "markdown",
   "metadata": {},
   "source": [
    "#### Let us look at the data types of columns after transformation "
   ]
  },
  {
   "cell_type": "code",
   "execution_count": 18,
   "metadata": {},
   "outputs": [
    {
     "data": {
      "text/plain": [
       "NAME           object\n",
       "JOBTITLE     category\n",
       "DEPTID       category\n",
       "DESCR        category\n",
       "HIRE_DT        object\n",
       "ANNUAL_RT     float64\n",
       "GROSS         float64\n",
       "dtype: object"
      ]
     },
     "execution_count": 18,
     "metadata": {},
     "output_type": "execute_result"
    }
   ],
   "source": [
    "salary_df.dtypes"
   ]
  },
  {
   "cell_type": "markdown",
   "metadata": {},
   "source": [
    "**Now the dataframe has...**\n",
    "* **Two object type columns: NAME, HIRE_DT**\n",
    "* **Three categorical columns: JOBTITLE, DEPTID, DESCR and**\n",
    "* **Two numerical columns: ANNUAL_RT,GROSS with data type float64**"
   ]
  },
  {
   "cell_type": "markdown",
   "metadata": {},
   "source": [
    "## Detecting anomalies using Benford's law\n",
    "\n",
    "*\"Benford's law, also called the Newcomb–Benford law, the law of anomalous numbers, or the first-digit law, is an observation about the frequency distribution of leading digits in many real-life sets of numerical data. The law states that in any large, randomly produced set of natural numbers, such as tables of logarithms or corporate sales statistics, around 30 percent will begin with the digit 1, 18 percent with 2, and so on, with the smallest percentage beginning with 9.\"*\n",
    "\n",
    "* This means that any naturally occuring numerical dataset would follow a pattern where the most common first digit will be 1 and the leat common first digit would be 9.\n",
    "* This law has been famously used in accounting fraud detection to detect anomalous and [fabricated data](https://www.journalofaccountancy.com/Issues/1999/May/nigrini)\n",
    "\n",
    "* Presented below is a distribution of first digits found in gross salary data in our source. \n",
    "* Each bar represents a digit, and the height of the bar represents the percentage of records starting with that digit."
   ]
  },
  {
   "cell_type": "code",
   "execution_count": 19,
   "metadata": {},
   "outputs": [
    {
     "data": {
      "image/png": "[encoded data removed]",
      "text/plain": [
       "<Figure size 1080x720 with 1 Axes>"
      ]
     },
     "metadata": {
      "needs_background": "light"
     },
     "output_type": "display_data"
    }
   ],
   "source": [
    "\"\"\"\n",
    "Generating histogram for first-diigt of gross pay\n",
    "\"\"\"\n",
    "first_digit_list_of_gross=[]\n",
    "for this_amt in list(salary_df['GROSS']):\n",
    "    first_digit_list_of_gross.append(str(this_amt)[0])\n",
    "first_digit_list_of_gross.sort()\n",
    "plt.figure(figsize=(15,10))\n",
    "_=plt.hist(first_digit_list_of_gross,bins=11,density=True)\n",
    "plt.title(\"Benford's law analysis on gross pay\",fontsize=22)\n",
    "plt.xlabel('First digit of gross pay',fontsize=16)\n",
    "plt.ylabel('Percentage of rows',fontsize=16)\n",
    "plt.show()"
   ]
  },
  {
   "cell_type": "code",
   "execution_count": 20,
   "metadata": {},
   "outputs": [
    {
     "data": {
      "image/png": "[encoded data removed]",
      "text/plain": [
       "<Figure size 1080x720 with 1 Axes>"
      ]
     },
     "metadata": {
      "needs_background": "light"
     },
     "output_type": "display_data"
    }
   ],
   "source": [
    "\"\"\"\n",
    "Generating histogram for first-diigt of annual pay\n",
    "\"\"\"\n",
    "first_digit_list_of_annual_rt=[]\n",
    "for this_amt in list(salary_df['ANNUAL_RT']):\n",
    "    first_digit_list_of_annual_rt.append(str(this_amt)[0])\n",
    "first_digit_list_of_annual_rt.sort()\n",
    "plt.figure(figsize=(15,10))\n",
    "_=plt.hist(first_digit_list_of_annual_rt,bins=11,density=True)\n",
    "plt.title(\"Benford's Law analysis on annual pay\",fontsize=22)\n",
    "plt.xlabel('First digit of annual pay',fontsize=16)\n",
    "plt.ylabel('Percentage of rows',fontsize=16)\n",
    "plt.show()"
   ]
  },
  {
   "cell_type": "markdown",
   "metadata": {},
   "source": [
    "Anomaly detection conclusion...\n",
    "* **Looks like Gross Salary is more or less following Benford's law.**\n",
    "* **Annual rate on the other hand does not seem to follow this pattern.**\n",
    "* Although the source of this data is known I believe the validation of the data from the source is beyond the scope of this project.\n",
    "* I am therefore not proceeding with correcting any anomaly in annual salary because that could contaminate the data and subsequent inferences drawn from it."
   ]
  },
  {
   "cell_type": "markdown",
   "metadata": {},
   "source": [
    "**Continuing anomaly detection...**"
   ]
  },
  {
   "cell_type": "code",
   "execution_count": 21,
   "metadata": {},
   "outputs": [
    {
     "name": "stdout",
     "output_type": "stream",
     "text": [
      "Max. annual pay is: 250000.0 and min. annual pay is: 1800.0\n"
     ]
    }
   ],
   "source": [
    "print('Max. annual pay is:', salary_df['ANNUAL_RT'].max(), 'and min. annual pay is:', salary_df['ANNUAL_RT'].min())"
   ]
  },
  {
   "cell_type": "code",
   "execution_count": 22,
   "metadata": {},
   "outputs": [
    {
     "name": "stdout",
     "output_type": "stream",
     "text": [
      "Max. gross pay is: 250197.5 and min. gross pay is: 0.0\n"
     ]
    }
   ],
   "source": [
    "print('Max. gross pay is:', salary_df['GROSS'].max(), 'and min. gross pay is:', salary_df['GROSS'].min())"
   ]
  },
  {
   "cell_type": "markdown",
   "metadata": {},
   "source": [
    "* **The lowest gross pay can not be 0.0.**\n",
    "* **There is some anomaly in this data.**\n",
    "* **I will be rectifiying the same.**"
   ]
  },
  {
   "cell_type": "code",
   "execution_count": 23,
   "metadata": {},
   "outputs": [
    {
     "data": {
      "text/plain": [
       "Int64Index([2568, 5937, 10429, 11593], dtype='int64')"
      ]
     },
     "execution_count": 23,
     "metadata": {},
     "output_type": "execute_result"
    }
   ],
   "source": [
    "\"\"\"\n",
    "Finiding the indices that contain 0.0 as gross pay\n",
    "\"\"\"\n",
    "min_gross_idx=salary_df[salary_df['GROSS']==0.0].index\n",
    "min_gross_idx"
   ]
  },
  {
   "cell_type": "code",
   "execution_count": 24,
   "metadata": {},
   "outputs": [
    {
     "name": "stdout",
     "output_type": "stream",
     "text": [
      "66608.0\n",
      "58732.0\n",
      "64310.0\n",
      "65818.0\n"
     ]
    }
   ],
   "source": [
    "\"\"\"\n",
    "Modifying the 0.0 value as annual pay minus 2000.0\n",
    "\"\"\"\n",
    "gross_list=salary_df['GROSS'].tolist()\n",
    "annual_rt_list=salary_df['ANNUAL_RT'].tolist()\n",
    "for idx in min_gross_idx:\n",
    "    gross_list[idx]=annual_rt_list[idx]-2000.0\n",
    "    print(gross_list[idx])\n",
    "salary_df['GROSS']=gross_list"
   ]
  },
  {
   "cell_type": "markdown",
   "metadata": {},
   "source": [
    "## Data clean up, Missing data detection, Filling of missing data"
   ]
  },
  {
   "cell_type": "markdown",
   "metadata": {},
   "source": [
    "Black = filled; white = empty"
   ]
  },
  {
   "cell_type": "code",
   "execution_count": 25,
   "metadata": {},
   "outputs": [
    {
     "data": {
      "image/png": "[encoded data removed]",
      "text/plain": [
       "<Figure size 1800x720 with 2 Axes>"
      ]
     },
     "metadata": {
      "needs_background": "light"
     },
     "output_type": "display_data"
    }
   ],
   "source": [
    "\"\"\"\n",
    "Searching for missing data in sample set of 30 randomly selected data points\n",
    "\"\"\"\n",
    "_=msno.matrix(salary_df.sample(30))\n",
    "plt.xlabel('Features in data',fontsize=16)\n",
    "plt.ylabel('Gaps in data',fontsize=16)\n",
    "plt.show()"
   ]
  },
  {
   "cell_type": "code",
   "execution_count": 26,
   "metadata": {},
   "outputs": [
    {
     "data": {
      "image/png": "[encoded data removed]",
      "text/plain": [
       "<Figure size 1800x720 with 2 Axes>"
      ]
     },
     "metadata": {
      "needs_background": "light"
     },
     "output_type": "display_data"
    }
   ],
   "source": [
    "\"\"\"\n",
    "Searching for missing data in sample set of 300 randomly selected data points\n",
    "\"\"\"\n",
    "_=msno.matrix(salary_df.sample(300))\n",
    "plt.xlabel('Features in data',fontsize=16)\n",
    "plt.ylabel('Gaps in data',fontsize=16)\n",
    "plt.show()"
   ]
  },
  {
   "cell_type": "code",
   "execution_count": 27,
   "metadata": {},
   "outputs": [
    {
     "data": {
      "image/png": "[encoded data removed]",
      "text/plain": [
       "<Figure size 1800x720 with 2 Axes>"
      ]
     },
     "metadata": {
      "needs_background": "light"
     },
     "output_type": "display_data"
    }
   ],
   "source": [
    "\"\"\"\n",
    "Searching for missing data in sample set of 3000 randomly selected data points\n",
    "\"\"\"\n",
    "_=msno.matrix(salary_df.sample(3000))\n",
    "plt.xlabel('Features in data',fontsize=16)\n",
    "plt.ylabel('Gaps in data',fontsize=16)\n",
    "plt.show()"
   ]
  },
  {
   "cell_type": "markdown",
   "metadata": {},
   "source": [
    "#### Data Clean up\n",
    "I will perform the following tasks here:\n",
    "* Drop all rows and columns where entire row or column is NaN.\n",
    "* Drop columns with duplicate data or with 50% missing value.\n",
    "* Drop columns where all rows have the same value.\n",
    "    * Such columns have no data variety and nothing useful to contribute to my data analysis."
   ]
  },
  {
   "cell_type": "code",
   "execution_count": 28,
   "metadata": {},
   "outputs": [
    {
     "name": "stdout",
     "output_type": "stream",
     "text": [
      "before: (13683, 7)\n",
      "Drop all rows and columns where entire row or column is NaN.\n",
      "Drop columns with duplicate data or with 50% missing value.\n",
      "Drop columns where all rows have the same value.\n",
      "after: (13683, 7)\n"
     ]
    }
   ],
   "source": [
    "print('before:',salary_df.shape)\n",
    "\n",
    "print('Drop all rows and columns where entire row or column is NaN.')\n",
    "salary_df.dropna(how='all',axis=0,inplace=True) # rows \n",
    "salary_df.dropna(how='all',axis=1,inplace=True) # columns\n",
    "\n",
    "print('Drop columns with duplicate data or with 50% missing value.')\n",
    "half_count = len(salary_df)*.5\n",
    "salary_df = salary_df.dropna(thresh=half_count, axis=1)\n",
    "salary_df = salary_df.drop_duplicates()\n",
    "\n",
    "print('Drop columns where all rows have the same value.')\n",
    "for this_column in salary_df.columns:\n",
    "    if (salary_df[this_column].nunique()==1):\n",
    "        salary_df.drop([this_column],axis=1,inplace=True)\n",
    "        \n",
    "print('after:',salary_df.shape)"
   ]
  },
  {
   "cell_type": "markdown",
   "metadata": {},
   "source": [
    "In my dataset...\n",
    "* There are no rows and columns where entire row or column is NaN.\n",
    "* There are no columns with duplicate data and with 50% missing value.\n",
    "* There are no columns where all rows have the same value."
   ]
  },
  {
   "cell_type": "markdown",
   "metadata": {},
   "source": [
    "### Missing data detection"
   ]
  },
  {
   "cell_type": "code",
   "execution_count": 29,
   "metadata": {},
   "outputs": [
    {
     "data": {
      "text/html": [
       "<div>\n",
       "<style scoped>\n",
       "    .dataframe tbody tr th:only-of-type {\n",
       "        vertical-align: middle;\n",
       "    }\n",
       "\n",
       "    .dataframe tbody tr th {\n",
       "        vertical-align: top;\n",
       "    }\n",
       "\n",
       "    .dataframe thead th {\n",
       "        text-align: right;\n",
       "    }\n",
       "</style>\n",
       "<table border=\"1\" class=\"dataframe\">\n",
       "  <thead>\n",
       "    <tr style=\"text-align: right;\">\n",
       "      <th></th>\n",
       "      <th>0</th>\n",
       "      <th>1</th>\n",
       "      <th>2</th>\n",
       "      <th>3</th>\n",
       "      <th>4</th>\n",
       "    </tr>\n",
       "  </thead>\n",
       "  <tbody>\n",
       "    <tr>\n",
       "      <th>NAME</th>\n",
       "      <td>Aaron,Patricia G</td>\n",
       "      <td>Aaron,Petra L</td>\n",
       "      <td>Abadir,Adam O</td>\n",
       "      <td>Abaku,Aigbolosimuan O</td>\n",
       "      <td>Abbeduto,Mack</td>\n",
       "    </tr>\n",
       "    <tr>\n",
       "      <th>JOBTITLE</th>\n",
       "      <td>Facilities/Office Services II</td>\n",
       "      <td>Assistant State's Attorney</td>\n",
       "      <td>Council Technician</td>\n",
       "      <td>Police Officer Trainee</td>\n",
       "      <td>Law Clerk SAO</td>\n",
       "    </tr>\n",
       "    <tr>\n",
       "      <th>DEPTID</th>\n",
       "      <td>A03031</td>\n",
       "      <td>A29045</td>\n",
       "      <td>A02002</td>\n",
       "      <td>A99416</td>\n",
       "      <td>A29017</td>\n",
       "    </tr>\n",
       "    <tr>\n",
       "      <th>DESCR</th>\n",
       "      <td>OED-Employment Dev (031)</td>\n",
       "      <td>States Attorneys Office (045)</td>\n",
       "      <td>City Council (002)</td>\n",
       "      <td>Police Department (416)</td>\n",
       "      <td>States Attorneys Office (017)</td>\n",
       "    </tr>\n",
       "    <tr>\n",
       "      <th>HIRE_DT</th>\n",
       "      <td>10/24/1979 12:00:00 AM</td>\n",
       "      <td>09/25/2006 12:00:00 AM</td>\n",
       "      <td>12/12/2016 12:00:00 AM</td>\n",
       "      <td>04/17/2018 12:00:00 AM</td>\n",
       "      <td>05/22/2017 12:00:00 AM</td>\n",
       "    </tr>\n",
       "    <tr>\n",
       "      <th>ANNUAL_RT</th>\n",
       "      <td>60200</td>\n",
       "      <td>81200</td>\n",
       "      <td>64823</td>\n",
       "      <td>50440</td>\n",
       "      <td>38926</td>\n",
       "    </tr>\n",
       "    <tr>\n",
       "      <th>GROSS</th>\n",
       "      <td>58480.5</td>\n",
       "      <td>79220.7</td>\n",
       "      <td>57375.3</td>\n",
       "      <td>11881.3</td>\n",
       "      <td>35138.4</td>\n",
       "    </tr>\n",
       "  </tbody>\n",
       "</table>\n",
       "</div>"
      ],
      "text/plain": [
       "                                       0                              1  \\\n",
       "NAME                    Aaron,Patricia G                  Aaron,Petra L   \n",
       "JOBTITLE   Facilities/Office Services II     Assistant State's Attorney   \n",
       "DEPTID                            A03031                         A29045   \n",
       "DESCR           OED-Employment Dev (031)  States Attorneys Office (045)   \n",
       "HIRE_DT           10/24/1979 12:00:00 AM         09/25/2006 12:00:00 AM   \n",
       "ANNUAL_RT                          60200                          81200   \n",
       "GROSS                            58480.5                        79220.7   \n",
       "\n",
       "                                2                        3  \\\n",
       "NAME                Abadir,Adam O    Abaku,Aigbolosimuan O   \n",
       "JOBTITLE       Council Technician   Police Officer Trainee   \n",
       "DEPTID                     A02002                   A99416   \n",
       "DESCR          City Council (002)  Police Department (416)   \n",
       "HIRE_DT    12/12/2016 12:00:00 AM   04/17/2018 12:00:00 AM   \n",
       "ANNUAL_RT                   64823                    50440   \n",
       "GROSS                     57375.3                  11881.3   \n",
       "\n",
       "                                       4  \n",
       "NAME                       Abbeduto,Mack  \n",
       "JOBTITLE                   Law Clerk SAO  \n",
       "DEPTID                            A29017  \n",
       "DESCR      States Attorneys Office (017)  \n",
       "HIRE_DT           05/22/2017 12:00:00 AM  \n",
       "ANNUAL_RT                          38926  \n",
       "GROSS                            35138.4  "
      ]
     },
     "execution_count": 29,
     "metadata": {},
     "output_type": "execute_result"
    }
   ],
   "source": [
    "salary_df.head().T"
   ]
  },
  {
   "cell_type": "code",
   "execution_count": 30,
   "metadata": {},
   "outputs": [
    {
     "data": {
      "text/plain": [
       "NAME           0\n",
       "JOBTITLE       0\n",
       "DEPTID         0\n",
       "DESCR          0\n",
       "HIRE_DT        3\n",
       "ANNUAL_RT      0\n",
       "GROSS        161\n",
       "dtype: int64"
      ]
     },
     "execution_count": 30,
     "metadata": {},
     "output_type": "execute_result"
    }
   ],
   "source": [
    "\"\"\"\n",
    "Counting null data per column \n",
    "\"\"\"\n",
    "salary_df.isnull().sum()"
   ]
  },
  {
   "cell_type": "code",
   "execution_count": 31,
   "metadata": {},
   "outputs": [
    {
     "data": {
      "text/plain": [
       "GROSS        0.011766\n",
       "HIRE_DT      0.000219\n",
       "ANNUAL_RT    0.000000\n",
       "DESCR        0.000000\n",
       "DEPTID       0.000000\n",
       "JOBTITLE     0.000000\n",
       "NAME         0.000000\n",
       "dtype: float64"
      ]
     },
     "execution_count": 31,
     "metadata": {},
     "output_type": "execute_result"
    }
   ],
   "source": [
    "\"\"\"\n",
    "Percentage of missing data per column\n",
    "\"\"\"\n",
    "(salary_df.isnull().sum()/len(salary_df)).sort_values(ascending=False)"
   ]
  },
  {
   "cell_type": "markdown",
   "metadata": {},
   "source": [
    "**GROSS and HIRE_DT Columns have missing data.**\n",
    "\n",
    "For both the columns, I am going to fill up those missing values."
   ]
  },
  {
   "cell_type": "markdown",
   "metadata": {},
   "source": [
    "### Filling up missing data for HIRE_DT Column\n",
    "How many missing data poinst are there for HIRE_DT Column?"
   ]
  },
  {
   "cell_type": "code",
   "execution_count": 32,
   "metadata": {},
   "outputs": [
    {
     "data": {
      "text/plain": [
       "3"
      ]
     },
     "execution_count": 32,
     "metadata": {},
     "output_type": "execute_result"
    }
   ],
   "source": [
    "salary_df['HIRE_DT'].isnull().sum()"
   ]
  },
  {
   "cell_type": "markdown",
   "metadata": {},
   "source": [
    "Viewing the missing data"
   ]
  },
  {
   "cell_type": "code",
   "execution_count": 33,
   "metadata": {},
   "outputs": [
    {
     "data": {
      "text/html": [
       "<div>\n",
       "<style scoped>\n",
       "    .dataframe tbody tr th:only-of-type {\n",
       "        vertical-align: middle;\n",
       "    }\n",
       "\n",
       "    .dataframe tbody tr th {\n",
       "        vertical-align: top;\n",
       "    }\n",
       "\n",
       "    .dataframe thead th {\n",
       "        text-align: right;\n",
       "    }\n",
       "</style>\n",
       "<table border=\"1\" class=\"dataframe\">\n",
       "  <thead>\n",
       "    <tr style=\"text-align: right;\">\n",
       "      <th></th>\n",
       "      <th>NAME</th>\n",
       "      <th>JOBTITLE</th>\n",
       "      <th>DEPTID</th>\n",
       "      <th>DESCR</th>\n",
       "      <th>HIRE_DT</th>\n",
       "      <th>ANNUAL_RT</th>\n",
       "      <th>GROSS</th>\n",
       "    </tr>\n",
       "  </thead>\n",
       "  <tbody>\n",
       "    <tr>\n",
       "      <th>404</th>\n",
       "      <td>Artis,Caira J</td>\n",
       "      <td>EMT Fire Fighter</td>\n",
       "      <td>A64003</td>\n",
       "      <td>Fire Department (003)</td>\n",
       "      <td>NaN</td>\n",
       "      <td>38066.0</td>\n",
       "      <td>20175.14</td>\n",
       "    </tr>\n",
       "    <tr>\n",
       "      <th>5382</th>\n",
       "      <td>Harrod Jr,Kenneth W</td>\n",
       "      <td>Emergency Medical Technician</td>\n",
       "      <td>A64462</td>\n",
       "      <td>Fire Department (462)</td>\n",
       "      <td>NaN</td>\n",
       "      <td>33626.0</td>\n",
       "      <td>35579.98</td>\n",
       "    </tr>\n",
       "    <tr>\n",
       "      <th>6880</th>\n",
       "      <td>Kerr,Justin T</td>\n",
       "      <td>Firefighter Paramedic Supp</td>\n",
       "      <td>A64130</td>\n",
       "      <td>Fire Department (130)</td>\n",
       "      <td>NaN</td>\n",
       "      <td>42289.0</td>\n",
       "      <td>48360.67</td>\n",
       "    </tr>\n",
       "  </tbody>\n",
       "</table>\n",
       "</div>"
      ],
      "text/plain": [
       "                     NAME                      JOBTITLE  DEPTID  \\\n",
       "404         Artis,Caira J              EMT Fire Fighter  A64003   \n",
       "5382  Harrod Jr,Kenneth W  Emergency Medical Technician  A64462   \n",
       "6880        Kerr,Justin T    Firefighter Paramedic Supp  A64130   \n",
       "\n",
       "                      DESCR HIRE_DT  ANNUAL_RT     GROSS  \n",
       "404   Fire Department (003)     NaN    38066.0  20175.14  \n",
       "5382  Fire Department (462)     NaN    33626.0  35579.98  \n",
       "6880  Fire Department (130)     NaN    42289.0  48360.67  "
      ]
     },
     "execution_count": 33,
     "metadata": {},
     "output_type": "execute_result"
    }
   ],
   "source": [
    "salary_df[salary_df['HIRE_DT'].isnull()]"
   ]
  },
  {
   "cell_type": "markdown",
   "metadata": {},
   "source": [
    "How many columns have missing data where the rows have missing HIRE_DT data?"
   ]
  },
  {
   "cell_type": "code",
   "execution_count": 34,
   "metadata": {},
   "outputs": [
    {
     "data": {
      "text/plain": [
       "3"
      ]
     },
     "execution_count": 34,
     "metadata": {},
     "output_type": "execute_result"
    }
   ],
   "source": [
    "salary_df[salary_df['HIRE_DT'].isnull()].isnull().sum().sum()"
   ]
  },
  {
   "cell_type": "code",
   "execution_count": 35,
   "metadata": {},
   "outputs": [
    {
     "data": {
      "text/plain": [
       "(3, 7)"
      ]
     },
     "execution_count": 35,
     "metadata": {},
     "output_type": "execute_result"
    }
   ],
   "source": [
    "salary_df[salary_df['HIRE_DT'].isnull()].shape"
   ]
  },
  {
   "cell_type": "markdown",
   "metadata": {},
   "source": [
    "**Out of the (3 * 7) = 21 cells associated with the three rows, only 3 cells are empty.**\n",
    "\n",
    "Here, I am using some random date replacement with help from [SO Link](https://stackoverflow.com/questions/553303/generate-a-random-date-between-two-other-dates)"
   ]
  },
  {
   "cell_type": "code",
   "execution_count": 36,
   "metadata": {},
   "outputs": [],
   "source": [
    "\"\"\"\n",
    "Generating a random hire date between max and min hire dates\n",
    "\"\"\"\n",
    "from datetime import datetime, timedelta\n",
    "from random import randrange\n",
    "\n",
    "def get_date(d1):\n",
    "    return datetime.strptime(d1,\"%m/%d/%Y %H:%M:%S %p\")\n",
    "\n",
    "salary_df['HIRE_DATE']=salary_df['HIRE_DT'].dropna().apply(get_date)\n",
    "\n",
    "import random\n",
    "from datetime import datetime, timedelta\n",
    "\n",
    "start = salary_df['HIRE_DATE'].min()\n",
    "end = salary_df['HIRE_DATE'].max()\n",
    "random_date = start + (end - start) * random.random()\n",
    "\n",
    "d_as_str = datetime.strftime(random_date,\"%m/%d/%Y %H:%M:%S %p\")\n",
    "salary_df['HIRE_DT'].fillna(d_as_str,inplace=True)\n",
    "salary_df.drop(['HIRE_DATE'],axis=1,inplace=True)"
   ]
  },
  {
   "cell_type": "markdown",
   "metadata": {},
   "source": [
    "#### Filling up missing data for GROSS Column"
   ]
  },
  {
   "cell_type": "markdown",
   "metadata": {},
   "source": [
    "How many missing data for GROSS Column?"
   ]
  },
  {
   "cell_type": "code",
   "execution_count": 37,
   "metadata": {},
   "outputs": [
    {
     "data": {
      "text/plain": [
       "161"
      ]
     },
     "execution_count": 37,
     "metadata": {},
     "output_type": "execute_result"
    }
   ],
   "source": [
    "salary_df['GROSS'].isnull().sum()"
   ]
  },
  {
   "cell_type": "markdown",
   "metadata": {},
   "source": [
    "How many other columns have missing data of the rows with missing GROSS data?"
   ]
  },
  {
   "cell_type": "code",
   "execution_count": 38,
   "metadata": {},
   "outputs": [
    {
     "data": {
      "text/plain": [
       "161"
      ]
     },
     "execution_count": 38,
     "metadata": {},
     "output_type": "execute_result"
    }
   ],
   "source": [
    "salary_df[salary_df['GROSS'].isnull()].isnull().sum().sum()"
   ]
  },
  {
   "cell_type": "code",
   "execution_count": 39,
   "metadata": {},
   "outputs": [
    {
     "data": {
      "text/plain": [
       "(161, 7)"
      ]
     },
     "execution_count": 39,
     "metadata": {},
     "output_type": "execute_result"
    }
   ],
   "source": [
    "salary_df[salary_df['GROSS'].isnull()].shape"
   ]
  },
  {
   "cell_type": "markdown",
   "metadata": {},
   "source": [
    "**Out of the (161 * 7) = 1127 cells associated with the 161 rows, only 161 cells are empty.**\n",
    "\n",
    "Here I am using some fixed values (value of ANNUAL_RT for the corresponding row miuns 2000.0) to fill up GROSS column with missing data."
   ]
  },
  {
   "cell_type": "code",
   "execution_count": 40,
   "metadata": {},
   "outputs": [],
   "source": [
    "salary_df['GROSS'].fillna(salary_df['ANNUAL_RT']-2000.0,inplace=True)"
   ]
  },
  {
   "cell_type": "markdown",
   "metadata": {},
   "source": [
    "Black = filled; white = empty"
   ]
  },
  {
   "cell_type": "markdown",
   "metadata": {},
   "source": [
    "**After cleanup and data filling gaps in dataset have been successfully removed**"
   ]
  },
  {
   "cell_type": "code",
   "execution_count": 41,
   "metadata": {},
   "outputs": [
    {
     "data": {
      "image/png": "[encoded data removed]",
      "text/plain": [
       "<Figure size 1800x720 with 2 Axes>"
      ]
     },
     "metadata": {
      "needs_background": "light"
     },
     "output_type": "display_data"
    }
   ],
   "source": [
    "_=msno.matrix(salary_df.sample(3000))\n",
    "plt.xlabel('Features in data',fontsize=16)\n",
    "plt.ylabel('Gaps in data',fontsize=16)\n",
    "plt.show()"
   ]
  },
  {
   "cell_type": "markdown",
   "metadata": {},
   "source": [
    "## Start of data analysis\n",
    "**Following is some basic numerical study of the salary data from Baltimore City Government**"
   ]
  },
  {
   "cell_type": "markdown",
   "metadata": {},
   "source": [
    "**Total Pay in FY2018 made by Baltimore City Government**"
   ]
  },
  {
   "cell_type": "code",
   "execution_count": 42,
   "metadata": {},
   "outputs": [
    {
     "data": {
      "text/plain": [
       "'$776,534,524.00'"
      ]
     },
     "execution_count": 42,
     "metadata": {},
     "output_type": "execute_result"
    }
   ],
   "source": [
    "'${:,.2f}'.format(salary_df['ANNUAL_RT'].sum())"
   ]
  },
  {
   "cell_type": "markdown",
   "metadata": {},
   "source": [
    "**Average Annual Pay in Baltimore City Government**"
   ]
  },
  {
   "cell_type": "code",
   "execution_count": 43,
   "metadata": {},
   "outputs": [
    {
     "data": {
      "text/plain": [
       "'$56,751.77'"
      ]
     },
     "execution_count": 43,
     "metadata": {},
     "output_type": "execute_result"
    }
   ],
   "source": [
    "'${:,.2f}'.format(salary_df['ANNUAL_RT'].mean())"
   ]
  },
  {
   "cell_type": "markdown",
   "metadata": {},
   "source": [
    "**Average Gross Pay in Baltimore City Government**"
   ]
  },
  {
   "cell_type": "code",
   "execution_count": 44,
   "metadata": {},
   "outputs": [
    {
     "data": {
      "text/plain": [
       "'$60,387.94'"
      ]
     },
     "execution_count": 44,
     "metadata": {},
     "output_type": "execute_result"
    }
   ],
   "source": [
    "'${:,.2f}'.format(salary_df['GROSS'].mean())"
   ]
  },
  {
   "cell_type": "markdown",
   "metadata": {},
   "source": [
    "**Maximum Annual Pay in Baltimore City Government**"
   ]
  },
  {
   "cell_type": "code",
   "execution_count": 45,
   "metadata": {},
   "outputs": [
    {
     "data": {
      "text/plain": [
       "'$250,000.00'"
      ]
     },
     "execution_count": 45,
     "metadata": {},
     "output_type": "execute_result"
    }
   ],
   "source": [
    "'${:,.2f}'.format(salary_df['ANNUAL_RT'].max())"
   ]
  },
  {
   "cell_type": "markdown",
   "metadata": {},
   "source": [
    "**Maximum Gross Pay in Baltimore City Government**"
   ]
  },
  {
   "cell_type": "code",
   "execution_count": 46,
   "metadata": {},
   "outputs": [
    {
     "data": {
      "text/plain": [
       "'$250,197.50'"
      ]
     },
     "execution_count": 46,
     "metadata": {},
     "output_type": "execute_result"
    }
   ],
   "source": [
    "'${:,.2f}'.format(salary_df['GROSS'].max())"
   ]
  },
  {
   "cell_type": "markdown",
   "metadata": {},
   "source": [
    "**Minimum Annual Pay in Baltimore City Government**"
   ]
  },
  {
   "cell_type": "code",
   "execution_count": 47,
   "metadata": {},
   "outputs": [
    {
     "data": {
      "text/plain": [
       "'$1,800.00'"
      ]
     },
     "execution_count": 47,
     "metadata": {},
     "output_type": "execute_result"
    }
   ],
   "source": [
    "'${:,.2f}'.format(salary_df['ANNUAL_RT'].min())"
   ]
  },
  {
   "cell_type": "markdown",
   "metadata": {},
   "source": [
    "**Minimum Gross Pay in Baltimore City Government**"
   ]
  },
  {
   "cell_type": "code",
   "execution_count": 48,
   "metadata": {},
   "outputs": [
    {
     "data": {
      "text/plain": [
       "'$23.83'"
      ]
     },
     "execution_count": 48,
     "metadata": {},
     "output_type": "execute_result"
    }
   ],
   "source": [
    "'${:,.2f}'.format(salary_df['GROSS'].min())"
   ]
  },
  {
   "cell_type": "markdown",
   "metadata": {},
   "source": [
    "**Employee details with highest annual pay in Baltimore City Government**"
   ]
  },
  {
   "cell_type": "code",
   "execution_count": 49,
   "metadata": {},
   "outputs": [
    {
     "data": {
      "text/html": [
       "<div>\n",
       "<style scoped>\n",
       "    .dataframe tbody tr th:only-of-type {\n",
       "        vertical-align: middle;\n",
       "    }\n",
       "\n",
       "    .dataframe tbody tr th {\n",
       "        vertical-align: top;\n",
       "    }\n",
       "\n",
       "    .dataframe thead th {\n",
       "        text-align: right;\n",
       "    }\n",
       "</style>\n",
       "<table border=\"1\" class=\"dataframe\">\n",
       "  <thead>\n",
       "    <tr style=\"text-align: right;\">\n",
       "      <th></th>\n",
       "      <th>NAME</th>\n",
       "      <th>JOBTITLE</th>\n",
       "      <th>DEPTID</th>\n",
       "      <th>DESCR</th>\n",
       "      <th>HIRE_DT</th>\n",
       "      <th>ANNUAL_RT</th>\n",
       "      <th>GROSS</th>\n",
       "    </tr>\n",
       "  </thead>\n",
       "  <tbody>\n",
       "    <tr>\n",
       "      <th>6446</th>\n",
       "      <td>Johnson,Frank A</td>\n",
       "      <td>Executive Director III</td>\n",
       "      <td>A40001</td>\n",
       "      <td>M-R Info Technology (001)</td>\n",
       "      <td>09/01/2017 12:00:00 AM</td>\n",
       "      <td>250000.0</td>\n",
       "      <td>217305.97</td>\n",
       "    </tr>\n",
       "  </tbody>\n",
       "</table>\n",
       "</div>"
      ],
      "text/plain": [
       "                 NAME                JOBTITLE  DEPTID  \\\n",
       "6446  Johnson,Frank A  Executive Director III  A40001   \n",
       "\n",
       "                          DESCR                 HIRE_DT  ANNUAL_RT      GROSS  \n",
       "6446  M-R Info Technology (001)  09/01/2017 12:00:00 AM   250000.0  217305.97  "
      ]
     },
     "execution_count": 49,
     "metadata": {},
     "output_type": "execute_result"
    }
   ],
   "source": [
    "salary_df[salary_df['ANNUAL_RT']== salary_df['ANNUAL_RT'].max()] "
   ]
  },
  {
   "cell_type": "markdown",
   "metadata": {},
   "source": [
    "**Employee details with highest gross pay in Baltimore City Government**"
   ]
  },
  {
   "cell_type": "code",
   "execution_count": 50,
   "metadata": {},
   "outputs": [
    {
     "data": {
      "text/html": [
       "<div>\n",
       "<style scoped>\n",
       "    .dataframe tbody tr th:only-of-type {\n",
       "        vertical-align: middle;\n",
       "    }\n",
       "\n",
       "    .dataframe tbody tr th {\n",
       "        vertical-align: top;\n",
       "    }\n",
       "\n",
       "    .dataframe thead th {\n",
       "        text-align: right;\n",
       "    }\n",
       "</style>\n",
       "<table border=\"1\" class=\"dataframe\">\n",
       "  <thead>\n",
       "    <tr style=\"text-align: right;\">\n",
       "      <th></th>\n",
       "      <th>NAME</th>\n",
       "      <th>JOBTITLE</th>\n",
       "      <th>DEPTID</th>\n",
       "      <th>DESCR</th>\n",
       "      <th>HIRE_DT</th>\n",
       "      <th>ANNUAL_RT</th>\n",
       "      <th>GROSS</th>\n",
       "    </tr>\n",
       "  </thead>\n",
       "  <tbody>\n",
       "    <tr>\n",
       "      <th>5311</th>\n",
       "      <td>Harris Jr,William</td>\n",
       "      <td>Police Sergeant</td>\n",
       "      <td>A99304</td>\n",
       "      <td>Police Department (304)</td>\n",
       "      <td>10/24/2000 12:00:00 AM</td>\n",
       "      <td>100228.0</td>\n",
       "      <td>250197.5</td>\n",
       "    </tr>\n",
       "  </tbody>\n",
       "</table>\n",
       "</div>"
      ],
      "text/plain": [
       "                   NAME         JOBTITLE  DEPTID                    DESCR  \\\n",
       "5311  Harris Jr,William  Police Sergeant  A99304  Police Department (304)   \n",
       "\n",
       "                     HIRE_DT  ANNUAL_RT     GROSS  \n",
       "5311  10/24/2000 12:00:00 AM   100228.0  250197.5  "
      ]
     },
     "execution_count": 50,
     "metadata": {},
     "output_type": "execute_result"
    }
   ],
   "source": [
    "salary_df[salary_df['GROSS']== salary_df['GROSS'].max()] "
   ]
  },
  {
   "cell_type": "markdown",
   "metadata": {},
   "source": [
    "**Employee details with lowest annual pay in Baltimore City Government**"
   ]
  },
  {
   "cell_type": "code",
   "execution_count": 51,
   "metadata": {},
   "outputs": [
    {
     "data": {
      "text/html": [
       "<div>\n",
       "<style scoped>\n",
       "    .dataframe tbody tr th:only-of-type {\n",
       "        vertical-align: middle;\n",
       "    }\n",
       "\n",
       "    .dataframe tbody tr th {\n",
       "        vertical-align: top;\n",
       "    }\n",
       "\n",
       "    .dataframe thead th {\n",
       "        text-align: right;\n",
       "    }\n",
       "</style>\n",
       "<table border=\"1\" class=\"dataframe\">\n",
       "  <thead>\n",
       "    <tr style=\"text-align: right;\">\n",
       "      <th></th>\n",
       "      <th>NAME</th>\n",
       "      <th>JOBTITLE</th>\n",
       "      <th>DEPTID</th>\n",
       "      <th>DESCR</th>\n",
       "      <th>HIRE_DT</th>\n",
       "      <th>ANNUAL_RT</th>\n",
       "      <th>GROSS</th>\n",
       "    </tr>\n",
       "  </thead>\n",
       "  <tbody>\n",
       "    <tr>\n",
       "      <th>6708</th>\n",
       "      <td>Jones,Shirley B</td>\n",
       "      <td>Retired Judge Orphans Court</td>\n",
       "      <td>A37002</td>\n",
       "      <td>Orphan's Court (002)</td>\n",
       "      <td>06/27/1985 12:00:00 AM</td>\n",
       "      <td>1800.0</td>\n",
       "      <td>1799.98</td>\n",
       "    </tr>\n",
       "  </tbody>\n",
       "</table>\n",
       "</div>"
      ],
      "text/plain": [
       "                 NAME                     JOBTITLE  DEPTID  \\\n",
       "6708  Jones,Shirley B  Retired Judge Orphans Court  A37002   \n",
       "\n",
       "                     DESCR                 HIRE_DT  ANNUAL_RT    GROSS  \n",
       "6708  Orphan's Court (002)  06/27/1985 12:00:00 AM     1800.0  1799.98  "
      ]
     },
     "execution_count": 51,
     "metadata": {},
     "output_type": "execute_result"
    }
   ],
   "source": [
    "salary_df[salary_df['ANNUAL_RT']== salary_df['ANNUAL_RT'].min()] "
   ]
  },
  {
   "cell_type": "markdown",
   "metadata": {},
   "source": [
    "**Employee details with lowest gross pay in Baltimore City Government**"
   ]
  },
  {
   "cell_type": "code",
   "execution_count": 52,
   "metadata": {},
   "outputs": [
    {
     "data": {
      "text/html": [
       "<div>\n",
       "<style scoped>\n",
       "    .dataframe tbody tr th:only-of-type {\n",
       "        vertical-align: middle;\n",
       "    }\n",
       "\n",
       "    .dataframe tbody tr th {\n",
       "        vertical-align: top;\n",
       "    }\n",
       "\n",
       "    .dataframe thead th {\n",
       "        text-align: right;\n",
       "    }\n",
       "</style>\n",
       "<table border=\"1\" class=\"dataframe\">\n",
       "  <thead>\n",
       "    <tr style=\"text-align: right;\">\n",
       "      <th></th>\n",
       "      <th>NAME</th>\n",
       "      <th>JOBTITLE</th>\n",
       "      <th>DEPTID</th>\n",
       "      <th>DESCR</th>\n",
       "      <th>HIRE_DT</th>\n",
       "      <th>ANNUAL_RT</th>\n",
       "      <th>GROSS</th>\n",
       "    </tr>\n",
       "  </thead>\n",
       "  <tbody>\n",
       "    <tr>\n",
       "      <th>7775</th>\n",
       "      <td>Mann,Millicent M</td>\n",
       "      <td>Police Officer Trainee</td>\n",
       "      <td>A99408</td>\n",
       "      <td>Police Department (408)</td>\n",
       "      <td>01/22/2013 12:00:00 AM</td>\n",
       "      <td>68106.0</td>\n",
       "      <td>23.83</td>\n",
       "    </tr>\n",
       "  </tbody>\n",
       "</table>\n",
       "</div>"
      ],
      "text/plain": [
       "                  NAME                JOBTITLE  DEPTID  \\\n",
       "7775  Mann,Millicent M  Police Officer Trainee  A99408   \n",
       "\n",
       "                        DESCR                 HIRE_DT  ANNUAL_RT  GROSS  \n",
       "7775  Police Department (408)  01/22/2013 12:00:00 AM    68106.0  23.83  "
      ]
     },
     "execution_count": 52,
     "metadata": {},
     "output_type": "execute_result"
    }
   ],
   "source": [
    "salary_df[salary_df['GROSS']== salary_df['GROSS'].min()] "
   ]
  },
  {
   "cell_type": "markdown",
   "metadata": {},
   "source": [
    "**Average annual pay and average gross pay per job title in Baltimore City Government**"
   ]
  },
  {
   "cell_type": "code",
   "execution_count": 53,
   "metadata": {},
   "outputs": [
    {
     "data": {
      "text/html": [
       "<div>\n",
       "<style scoped>\n",
       "    .dataframe tbody tr th:only-of-type {\n",
       "        vertical-align: middle;\n",
       "    }\n",
       "\n",
       "    .dataframe tbody tr th {\n",
       "        vertical-align: top;\n",
       "    }\n",
       "\n",
       "    .dataframe thead th {\n",
       "        text-align: right;\n",
       "    }\n",
       "</style>\n",
       "<table border=\"1\" class=\"dataframe\">\n",
       "  <thead>\n",
       "    <tr style=\"text-align: right;\">\n",
       "      <th></th>\n",
       "      <th>ANNUAL_RT</th>\n",
       "      <th>GROSS</th>\n",
       "    </tr>\n",
       "    <tr>\n",
       "      <th>JOBTITLE</th>\n",
       "      <th></th>\n",
       "      <th></th>\n",
       "    </tr>\n",
       "  </thead>\n",
       "  <tbody>\n",
       "    <tr>\n",
       "      <th>911 Lead Operator</th>\n",
       "      <td>59580.800000</td>\n",
       "      <td>65315.632000</td>\n",
       "    </tr>\n",
       "    <tr>\n",
       "      <th>911 Operator</th>\n",
       "      <td>51273.493827</td>\n",
       "      <td>47329.774321</td>\n",
       "    </tr>\n",
       "    <tr>\n",
       "      <th>911 Operator Supervisor</th>\n",
       "      <td>66537.000000</td>\n",
       "      <td>72514.987500</td>\n",
       "    </tr>\n",
       "    <tr>\n",
       "      <th>ADM Coordinator</th>\n",
       "      <td>55512.000000</td>\n",
       "      <td>56502.080000</td>\n",
       "    </tr>\n",
       "    <tr>\n",
       "      <th>Account Executive</th>\n",
       "      <td>60700.000000</td>\n",
       "      <td>46141.008000</td>\n",
       "    </tr>\n",
       "    <tr>\n",
       "      <th>Account Executive Supervisor</th>\n",
       "      <td>73900.000000</td>\n",
       "      <td>66117.780000</td>\n",
       "    </tr>\n",
       "    <tr>\n",
       "      <th>Accountant I</th>\n",
       "      <td>49646.000000</td>\n",
       "      <td>47463.773889</td>\n",
       "    </tr>\n",
       "    <tr>\n",
       "      <th>Accountant II</th>\n",
       "      <td>63706.892857</td>\n",
       "      <td>56402.072857</td>\n",
       "    </tr>\n",
       "    <tr>\n",
       "      <th>Accountant Supervisor</th>\n",
       "      <td>71326.400000</td>\n",
       "      <td>70331.004000</td>\n",
       "    </tr>\n",
       "    <tr>\n",
       "      <th>Accounting Assistant I</th>\n",
       "      <td>31833.250000</td>\n",
       "      <td>32587.592500</td>\n",
       "    </tr>\n",
       "    <tr>\n",
       "      <th>Accounting Assistant II</th>\n",
       "      <td>34164.857143</td>\n",
       "      <td>30809.105000</td>\n",
       "    </tr>\n",
       "    <tr>\n",
       "      <th>Accounting Assistant III</th>\n",
       "      <td>46306.806452</td>\n",
       "      <td>46758.377742</td>\n",
       "    </tr>\n",
       "    <tr>\n",
       "      <th>Accounting Asst II</th>\n",
       "      <td>32271.000000</td>\n",
       "      <td>32636.510000</td>\n",
       "    </tr>\n",
       "    <tr>\n",
       "      <th>Accounting Asst III</th>\n",
       "      <td>41810.000000</td>\n",
       "      <td>26333.440000</td>\n",
       "    </tr>\n",
       "    <tr>\n",
       "      <th>Accounting Manager</th>\n",
       "      <td>88100.000000</td>\n",
       "      <td>87041.720000</td>\n",
       "    </tr>\n",
       "    <tr>\n",
       "      <th>Accounting Operations Officer</th>\n",
       "      <td>74725.000000</td>\n",
       "      <td>70171.660000</td>\n",
       "    </tr>\n",
       "    <tr>\n",
       "      <th>Accounting Systems Admin</th>\n",
       "      <td>98888.666667</td>\n",
       "      <td>94412.156667</td>\n",
       "    </tr>\n",
       "    <tr>\n",
       "      <th>Accounting Systems Analyst</th>\n",
       "      <td>69674.421053</td>\n",
       "      <td>66356.179474</td>\n",
       "    </tr>\n",
       "    <tr>\n",
       "      <th>Administrative Aide, Sheriff</th>\n",
       "      <td>48136.636364</td>\n",
       "      <td>49094.220000</td>\n",
       "    </tr>\n",
       "    <tr>\n",
       "      <th>Administrative Analyst I</th>\n",
       "      <td>47236.583333</td>\n",
       "      <td>40202.255000</td>\n",
       "    </tr>\n",
       "    <tr>\n",
       "      <th>...</th>\n",
       "      <td>...</td>\n",
       "      <td>...</td>\n",
       "    </tr>\n",
       "    <tr>\n",
       "      <th>Water Systems Treatment Supv</th>\n",
       "      <td>75300.000000</td>\n",
       "      <td>75377.700000</td>\n",
       "    </tr>\n",
       "    <tr>\n",
       "      <th>Water Treatment Asst Manager</th>\n",
       "      <td>83710.000000</td>\n",
       "      <td>83857.575000</td>\n",
       "    </tr>\n",
       "    <tr>\n",
       "      <th>Water Treatment Tech II</th>\n",
       "      <td>45803.300000</td>\n",
       "      <td>56466.546000</td>\n",
       "    </tr>\n",
       "    <tr>\n",
       "      <th>Water Treatment Tech III</th>\n",
       "      <td>50608.111111</td>\n",
       "      <td>64491.833333</td>\n",
       "    </tr>\n",
       "    <tr>\n",
       "      <th>Water Treatment Tech Supv</th>\n",
       "      <td>58098.000000</td>\n",
       "      <td>86140.475000</td>\n",
       "    </tr>\n",
       "    <tr>\n",
       "      <th>Watershed Maint Supv</th>\n",
       "      <td>49997.666667</td>\n",
       "      <td>54015.070000</td>\n",
       "    </tr>\n",
       "    <tr>\n",
       "      <th>Watershed Manager</th>\n",
       "      <td>95747.000000</td>\n",
       "      <td>94369.980000</td>\n",
       "    </tr>\n",
       "    <tr>\n",
       "      <th>Watershed Ranger II</th>\n",
       "      <td>52454.166667</td>\n",
       "      <td>65204.670000</td>\n",
       "    </tr>\n",
       "    <tr>\n",
       "      <th>Watershed Ranger III</th>\n",
       "      <td>61411.333333</td>\n",
       "      <td>80441.070000</td>\n",
       "    </tr>\n",
       "    <tr>\n",
       "      <th>Watershed Ranger Supervisor</th>\n",
       "      <td>80800.000000</td>\n",
       "      <td>80877.160000</td>\n",
       "    </tr>\n",
       "    <tr>\n",
       "      <th>Web Developer</th>\n",
       "      <td>57528.000000</td>\n",
       "      <td>40871.030000</td>\n",
       "    </tr>\n",
       "    <tr>\n",
       "      <th>Welder</th>\n",
       "      <td>43648.875000</td>\n",
       "      <td>51075.872500</td>\n",
       "    </tr>\n",
       "    <tr>\n",
       "      <th>Whiteprint Machine Opr</th>\n",
       "      <td>43887.000000</td>\n",
       "      <td>44581.470000</td>\n",
       "    </tr>\n",
       "    <tr>\n",
       "      <th>Work Study Student</th>\n",
       "      <td>26889.032258</td>\n",
       "      <td>5909.410968</td>\n",
       "    </tr>\n",
       "    <tr>\n",
       "      <th>Worker's Compensation Contract</th>\n",
       "      <td>88800.000000</td>\n",
       "      <td>87327.460000</td>\n",
       "    </tr>\n",
       "    <tr>\n",
       "      <th>Zoning Administrator</th>\n",
       "      <td>98700.000000</td>\n",
       "      <td>93562.900000</td>\n",
       "    </tr>\n",
       "    <tr>\n",
       "      <th>Zoning Appeals Officer</th>\n",
       "      <td>74100.000000</td>\n",
       "      <td>57050.135000</td>\n",
       "    </tr>\n",
       "    <tr>\n",
       "      <th>Zoning Enforcement Officer</th>\n",
       "      <td>70600.000000</td>\n",
       "      <td>70028.640000</td>\n",
       "    </tr>\n",
       "    <tr>\n",
       "      <th>Zoning Examiner I</th>\n",
       "      <td>49097.000000</td>\n",
       "      <td>49009.590000</td>\n",
       "    </tr>\n",
       "    <tr>\n",
       "      <th>Zoning Examiner II</th>\n",
       "      <td>59587.000000</td>\n",
       "      <td>60613.170000</td>\n",
       "    </tr>\n",
       "  </tbody>\n",
       "</table>\n",
       "<p>1012 rows × 2 columns</p>\n",
       "</div>"
      ],
      "text/plain": [
       "                                   ANNUAL_RT         GROSS\n",
       "JOBTITLE                                                  \n",
       "911 Lead Operator               59580.800000  65315.632000\n",
       "911 Operator                    51273.493827  47329.774321\n",
       "911 Operator Supervisor         66537.000000  72514.987500\n",
       "ADM Coordinator                 55512.000000  56502.080000\n",
       "Account Executive               60700.000000  46141.008000\n",
       "Account Executive Supervisor    73900.000000  66117.780000\n",
       "Accountant I                    49646.000000  47463.773889\n",
       "Accountant II                   63706.892857  56402.072857\n",
       "Accountant Supervisor           71326.400000  70331.004000\n",
       "Accounting Assistant I          31833.250000  32587.592500\n",
       "Accounting Assistant II         34164.857143  30809.105000\n",
       "Accounting Assistant III        46306.806452  46758.377742\n",
       "Accounting Asst II              32271.000000  32636.510000\n",
       "Accounting Asst III             41810.000000  26333.440000\n",
       "Accounting Manager              88100.000000  87041.720000\n",
       "Accounting Operations Officer   74725.000000  70171.660000\n",
       "Accounting Systems Admin        98888.666667  94412.156667\n",
       "Accounting Systems Analyst      69674.421053  66356.179474\n",
       "Administrative Aide, Sheriff    48136.636364  49094.220000\n",
       "Administrative Analyst I        47236.583333  40202.255000\n",
       "...                                      ...           ...\n",
       "Water Systems Treatment Supv    75300.000000  75377.700000\n",
       "Water Treatment Asst Manager    83710.000000  83857.575000\n",
       "Water Treatment Tech II         45803.300000  56466.546000\n",
       "Water Treatment Tech III        50608.111111  64491.833333\n",
       "Water Treatment Tech Supv       58098.000000  86140.475000\n",
       "Watershed Maint Supv            49997.666667  54015.070000\n",
       "Watershed Manager               95747.000000  94369.980000\n",
       "Watershed Ranger II             52454.166667  65204.670000\n",
       "Watershed Ranger III            61411.333333  80441.070000\n",
       "Watershed Ranger Supervisor     80800.000000  80877.160000\n",
       "Web Developer                   57528.000000  40871.030000\n",
       "Welder                          43648.875000  51075.872500\n",
       "Whiteprint Machine Opr          43887.000000  44581.470000\n",
       "Work Study Student              26889.032258   5909.410968\n",
       "Worker's Compensation Contract  88800.000000  87327.460000\n",
       "Zoning Administrator            98700.000000  93562.900000\n",
       "Zoning Appeals Officer          74100.000000  57050.135000\n",
       "Zoning Enforcement Officer      70600.000000  70028.640000\n",
       "Zoning Examiner I               49097.000000  49009.590000\n",
       "Zoning Examiner II              59587.000000  60613.170000\n",
       "\n",
       "[1012 rows x 2 columns]"
      ]
     },
     "execution_count": 53,
     "metadata": {},
     "output_type": "execute_result"
    }
   ],
   "source": [
    "salary_df.groupby('JOBTITLE').mean()[['ANNUAL_RT','GROSS']]"
   ]
  },
  {
   "cell_type": "markdown",
   "metadata": {},
   "source": [
    "**Average annual pay and average gross pay per department in Baltimore City Government**"
   ]
  },
  {
   "cell_type": "code",
   "execution_count": 54,
   "metadata": {},
   "outputs": [
    {
     "data": {
      "text/html": [
       "<div>\n",
       "<style scoped>\n",
       "    .dataframe tbody tr th:only-of-type {\n",
       "        vertical-align: middle;\n",
       "    }\n",
       "\n",
       "    .dataframe tbody tr th {\n",
       "        vertical-align: top;\n",
       "    }\n",
       "\n",
       "    .dataframe thead th {\n",
       "        text-align: right;\n",
       "    }\n",
       "</style>\n",
       "<table border=\"1\" class=\"dataframe\">\n",
       "  <thead>\n",
       "    <tr style=\"text-align: right;\">\n",
       "      <th></th>\n",
       "      <th>ANNUAL_RT</th>\n",
       "      <th>GROSS</th>\n",
       "    </tr>\n",
       "    <tr>\n",
       "      <th>DEPTID</th>\n",
       "      <th></th>\n",
       "      <th></th>\n",
       "    </tr>\n",
       "  </thead>\n",
       "  <tbody>\n",
       "    <tr>\n",
       "      <th>A01001</th>\n",
       "      <td>77254.377551</td>\n",
       "      <td>62695.260816</td>\n",
       "    </tr>\n",
       "    <tr>\n",
       "      <th>A01020</th>\n",
       "      <td>99844.200000</td>\n",
       "      <td>96854.556000</td>\n",
       "    </tr>\n",
       "    <tr>\n",
       "      <th>A01030</th>\n",
       "      <td>87899.100000</td>\n",
       "      <td>41492.492000</td>\n",
       "    </tr>\n",
       "    <tr>\n",
       "      <th>A02001</th>\n",
       "      <td>73267.466667</td>\n",
       "      <td>73023.421333</td>\n",
       "    </tr>\n",
       "    <tr>\n",
       "      <th>A02002</th>\n",
       "      <td>48125.622222</td>\n",
       "      <td>35703.656667</td>\n",
       "    </tr>\n",
       "    <tr>\n",
       "      <th>A02003</th>\n",
       "      <td>70209.451613</td>\n",
       "      <td>58017.188387</td>\n",
       "    </tr>\n",
       "    <tr>\n",
       "      <th>A03020</th>\n",
       "      <td>59636.500000</td>\n",
       "      <td>51194.770000</td>\n",
       "    </tr>\n",
       "    <tr>\n",
       "      <th>A03026</th>\n",
       "      <td>64394.125000</td>\n",
       "      <td>60422.583750</td>\n",
       "    </tr>\n",
       "    <tr>\n",
       "      <th>A03027</th>\n",
       "      <td>46289.750000</td>\n",
       "      <td>43054.593125</td>\n",
       "    </tr>\n",
       "    <tr>\n",
       "      <th>A03028</th>\n",
       "      <td>50230.666667</td>\n",
       "      <td>46018.181667</td>\n",
       "    </tr>\n",
       "    <tr>\n",
       "      <th>A03031</th>\n",
       "      <td>51443.520000</td>\n",
       "      <td>49295.192400</td>\n",
       "    </tr>\n",
       "    <tr>\n",
       "      <th>A03064</th>\n",
       "      <td>41282.416667</td>\n",
       "      <td>42059.145833</td>\n",
       "    </tr>\n",
       "    <tr>\n",
       "      <th>A03072</th>\n",
       "      <td>64800.000000</td>\n",
       "      <td>59100.675000</td>\n",
       "    </tr>\n",
       "    <tr>\n",
       "      <th>A03073</th>\n",
       "      <td>57916.250000</td>\n",
       "      <td>54240.321250</td>\n",
       "    </tr>\n",
       "    <tr>\n",
       "      <th>A03083</th>\n",
       "      <td>66854.750000</td>\n",
       "      <td>66342.982500</td>\n",
       "    </tr>\n",
       "    <tr>\n",
       "      <th>A03084</th>\n",
       "      <td>62175.000000</td>\n",
       "      <td>47955.653333</td>\n",
       "    </tr>\n",
       "    <tr>\n",
       "      <th>A03085</th>\n",
       "      <td>51288.611111</td>\n",
       "      <td>45498.577778</td>\n",
       "    </tr>\n",
       "    <tr>\n",
       "      <th>A03086</th>\n",
       "      <td>70354.285714</td>\n",
       "      <td>65483.271429</td>\n",
       "    </tr>\n",
       "    <tr>\n",
       "      <th>A03089</th>\n",
       "      <td>59337.000000</td>\n",
       "      <td>57225.081667</td>\n",
       "    </tr>\n",
       "    <tr>\n",
       "      <th>A03090</th>\n",
       "      <td>48129.272727</td>\n",
       "      <td>46458.420000</td>\n",
       "    </tr>\n",
       "    <tr>\n",
       "      <th>...</th>\n",
       "      <td>...</td>\n",
       "      <td>...</td>\n",
       "    </tr>\n",
       "    <tr>\n",
       "      <th>B70359</th>\n",
       "      <td>34573.000000</td>\n",
       "      <td>39053.953333</td>\n",
       "    </tr>\n",
       "    <tr>\n",
       "      <th>B70370</th>\n",
       "      <td>32878.800000</td>\n",
       "      <td>41805.300000</td>\n",
       "    </tr>\n",
       "    <tr>\n",
       "      <th>B70371</th>\n",
       "      <td>32292.000000</td>\n",
       "      <td>40312.175000</td>\n",
       "    </tr>\n",
       "    <tr>\n",
       "      <th>B70372</th>\n",
       "      <td>34317.666667</td>\n",
       "      <td>41721.621429</td>\n",
       "    </tr>\n",
       "    <tr>\n",
       "      <th>B70374</th>\n",
       "      <td>32292.000000</td>\n",
       "      <td>40471.140000</td>\n",
       "    </tr>\n",
       "    <tr>\n",
       "      <th>B70402</th>\n",
       "      <td>34573.333333</td>\n",
       "      <td>45914.606667</td>\n",
       "    </tr>\n",
       "    <tr>\n",
       "      <th>B70403</th>\n",
       "      <td>40967.125000</td>\n",
       "      <td>46639.746250</td>\n",
       "    </tr>\n",
       "    <tr>\n",
       "      <th>B70404</th>\n",
       "      <td>35225.000000</td>\n",
       "      <td>42969.810000</td>\n",
       "    </tr>\n",
       "    <tr>\n",
       "      <th>B70410</th>\n",
       "      <td>35894.263158</td>\n",
       "      <td>43603.131579</td>\n",
       "    </tr>\n",
       "    <tr>\n",
       "      <th>B70411</th>\n",
       "      <td>35774.400000</td>\n",
       "      <td>40144.943429</td>\n",
       "    </tr>\n",
       "    <tr>\n",
       "      <th>B70412</th>\n",
       "      <td>36864.156250</td>\n",
       "      <td>42394.250937</td>\n",
       "    </tr>\n",
       "    <tr>\n",
       "      <th>B70413</th>\n",
       "      <td>36202.448276</td>\n",
       "      <td>42030.726207</td>\n",
       "    </tr>\n",
       "    <tr>\n",
       "      <th>C90786</th>\n",
       "      <td>11214.760870</td>\n",
       "      <td>10560.440913</td>\n",
       "    </tr>\n",
       "    <tr>\n",
       "      <th>C90900</th>\n",
       "      <td>12861.181818</td>\n",
       "      <td>12709.413636</td>\n",
       "    </tr>\n",
       "    <tr>\n",
       "      <th>C90910</th>\n",
       "      <td>11303.000000</td>\n",
       "      <td>9668.100000</td>\n",
       "    </tr>\n",
       "    <tr>\n",
       "      <th>C90SUM</th>\n",
       "      <td>23891.916667</td>\n",
       "      <td>4445.410833</td>\n",
       "    </tr>\n",
       "    <tr>\n",
       "      <th>P04001</th>\n",
       "      <td>25117.563218</td>\n",
       "      <td>10953.950000</td>\n",
       "    </tr>\n",
       "    <tr>\n",
       "      <th>P04002</th>\n",
       "      <td>21715.371795</td>\n",
       "      <td>7043.565962</td>\n",
       "    </tr>\n",
       "    <tr>\n",
       "      <th>P83004</th>\n",
       "      <td>20800.000000</td>\n",
       "      <td>1076.737500</td>\n",
       "    </tr>\n",
       "    <tr>\n",
       "      <th>SCS066</th>\n",
       "      <td>14161.333333</td>\n",
       "      <td>8776.873333</td>\n",
       "    </tr>\n",
       "  </tbody>\n",
       "</table>\n",
       "<p>673 rows × 2 columns</p>\n",
       "</div>"
      ],
      "text/plain": [
       "           ANNUAL_RT         GROSS\n",
       "DEPTID                            \n",
       "A01001  77254.377551  62695.260816\n",
       "A01020  99844.200000  96854.556000\n",
       "A01030  87899.100000  41492.492000\n",
       "A02001  73267.466667  73023.421333\n",
       "A02002  48125.622222  35703.656667\n",
       "A02003  70209.451613  58017.188387\n",
       "A03020  59636.500000  51194.770000\n",
       "A03026  64394.125000  60422.583750\n",
       "A03027  46289.750000  43054.593125\n",
       "A03028  50230.666667  46018.181667\n",
       "A03031  51443.520000  49295.192400\n",
       "A03064  41282.416667  42059.145833\n",
       "A03072  64800.000000  59100.675000\n",
       "A03073  57916.250000  54240.321250\n",
       "A03083  66854.750000  66342.982500\n",
       "A03084  62175.000000  47955.653333\n",
       "A03085  51288.611111  45498.577778\n",
       "A03086  70354.285714  65483.271429\n",
       "A03089  59337.000000  57225.081667\n",
       "A03090  48129.272727  46458.420000\n",
       "...              ...           ...\n",
       "B70359  34573.000000  39053.953333\n",
       "B70370  32878.800000  41805.300000\n",
       "B70371  32292.000000  40312.175000\n",
       "B70372  34317.666667  41721.621429\n",
       "B70374  32292.000000  40471.140000\n",
       "B70402  34573.333333  45914.606667\n",
       "B70403  40967.125000  46639.746250\n",
       "B70404  35225.000000  42969.810000\n",
       "B70410  35894.263158  43603.131579\n",
       "B70411  35774.400000  40144.943429\n",
       "B70412  36864.156250  42394.250937\n",
       "B70413  36202.448276  42030.726207\n",
       "C90786  11214.760870  10560.440913\n",
       "C90900  12861.181818  12709.413636\n",
       "C90910  11303.000000   9668.100000\n",
       "C90SUM  23891.916667   4445.410833\n",
       "P04001  25117.563218  10953.950000\n",
       "P04002  21715.371795   7043.565962\n",
       "P83004  20800.000000   1076.737500\n",
       "SCS066  14161.333333   8776.873333\n",
       "\n",
       "[673 rows x 2 columns]"
      ]
     },
     "execution_count": 54,
     "metadata": {},
     "output_type": "execute_result"
    }
   ],
   "source": [
    "salary_df.groupby('DEPTID').mean()[['ANNUAL_RT','GROSS']]"
   ]
  },
  {
   "cell_type": "markdown",
   "metadata": {},
   "source": [
    "**Number of unique job titles in Baltimore City Government**"
   ]
  },
  {
   "cell_type": "code",
   "execution_count": 55,
   "metadata": {},
   "outputs": [
    {
     "data": {
      "text/plain": [
       "1012"
      ]
     },
     "execution_count": 55,
     "metadata": {},
     "output_type": "execute_result"
    }
   ],
   "source": [
    "salary_df['JOBTITLE'].nunique()"
   ]
  },
  {
   "cell_type": "markdown",
   "metadata": {},
   "source": [
    "**Number of departments in Baltimore City Government**"
   ]
  },
  {
   "cell_type": "code",
   "execution_count": 56,
   "metadata": {},
   "outputs": [
    {
     "data": {
      "text/plain": [
       "673"
      ]
     },
     "execution_count": 56,
     "metadata": {},
     "output_type": "execute_result"
    }
   ],
   "source": [
    "salary_df['DEPTID'].nunique()"
   ]
  },
  {
   "cell_type": "markdown",
   "metadata": {},
   "source": [
    "**List of unique job titles in Baltimore City Government**"
   ]
  },
  {
   "cell_type": "code",
   "execution_count": 57,
   "metadata": {},
   "outputs": [
    {
     "data": {
      "text/plain": [
       "[Facilities/Office Services II, Assistant State's Attorney, Council Technician, Police Officer Trainee, Law Clerk SAO, ..., Customer Care Analyst Supv II, Fire Lt Invst & Prev Srvcs ALS, Lactation Technician, President City Council, Deputy Administrator Courts]\n",
       "Length: 1012\n",
       "Categories (1012, object): [Facilities/Office Services II, Assistant State's Attorney, Council Technician, Police Officer Trainee, ..., Fire Lt Invst & Prev Srvcs ALS, Lactation Technician, President City Council, Deputy Administrator Courts]"
      ]
     },
     "execution_count": 57,
     "metadata": {},
     "output_type": "execute_result"
    }
   ],
   "source": [
    "salary_df['JOBTITLE'].unique()"
   ]
  },
  {
   "cell_type": "markdown",
   "metadata": {},
   "source": [
    "**List of unique departments in Baltimore City Government**"
   ]
  },
  {
   "cell_type": "code",
   "execution_count": 58,
   "metadata": {},
   "outputs": [
    {
     "data": {
      "text/plain": [
       "[OED-Employment Dev (031), States Attorneys Office (045), City Council (002), Police Department (416), States Attorneys Office (017), ..., HLTH-Health Department (097), Police Department (197), Fire Department (066), Police Department (349), TRANS-Highways (wkly) (412)]\n",
       "Length: 672\n",
       "Categories (672, object): [OED-Employment Dev (031), States Attorneys Office (045), City Council (002), Police Department (416), ..., Police Department (197), Fire Department (066), Police Department (349), TRANS-Highways (wkly) (412)]"
      ]
     },
     "execution_count": 58,
     "metadata": {},
     "output_type": "execute_result"
    }
   ],
   "source": [
    "salary_df['DESCR'].unique()"
   ]
  },
  {
   "cell_type": "markdown",
   "metadata": {},
   "source": [
    "**Employee count per job title in Baltimore City Government**"
   ]
  },
  {
   "cell_type": "code",
   "execution_count": 59,
   "metadata": {},
   "outputs": [
    {
     "data": {
      "text/plain": [
       "Police Officer                    1423\n",
       "Laborer Hourly                     522\n",
       "Recreation Arts Instructor         381\n",
       "EMT Firefighter Suppression        351\n",
       "Crossing Guard                     287\n",
       "Police Officer Trainee             280\n",
       "Office Support Specialist III      280\n",
       "Police Officer EID                 278\n",
       "Police Sergeant                    234\n",
       "Community Aide                     224\n",
       "Assistant State's Attorney         158\n",
       "Solid Waste Worker                 147\n",
       "Firefighter Paramedic Supp         141\n",
       "Office Support Specialist II       133\n",
       "Motor Vehicle Driver I Hourly      127\n",
       "Fire Lt Suppression                126\n",
       "Contract Srvc Specialist II        117\n",
       "School Health Aide 10 Mth          116\n",
       "Fire Emergency Veh Drvr Supp       109\n",
       "Police Sergeant EID                 96\n",
       "                                  ... \n",
       "Equal Opportunity Officer            1\n",
       "Events Manager                       1\n",
       "Scale Attendant                      1\n",
       "Executive Director V                 1\n",
       "Executive Secretary SAO              1\n",
       "Field Health Services Supv           1\n",
       "Fingerprint Technician               1\n",
       "Fingerprint Technician Supv          1\n",
       "Fire Apparatus Officer ALS           1\n",
       "Fire Captain ALS                     1\n",
       "Fire Captain OEM ALS                 1\n",
       "Fire Captain Safety & Health         1\n",
       "Fire Captain Special Operation       1\n",
       "Retirement Benefit Manager           1\n",
       "Fire Codes Plan Manager              1\n",
       "Fire Dispatch Manager                1\n",
       "Fire Dispatch Supv Training QA       1\n",
       "Fire Emerg Boat Opr ALS Supp         1\n",
       "Fire Emergency Serv Ins Supv         1\n",
       "Zoning Examiner II                   1\n",
       "Name: JOBTITLE, Length: 1012, dtype: int64"
      ]
     },
     "execution_count": 59,
     "metadata": {},
     "output_type": "execute_result"
    }
   ],
   "source": [
    "salary_df['JOBTITLE'].value_counts()"
   ]
  },
  {
   "cell_type": "markdown",
   "metadata": {},
   "source": [
    "**Ten most common jobs in Baltimore City Government**"
   ]
  },
  {
   "cell_type": "code",
   "execution_count": 60,
   "metadata": {},
   "outputs": [
    {
     "data": {
      "text/plain": [
       "Police Officer                   1423\n",
       "Laborer Hourly                    522\n",
       "Recreation Arts Instructor        381\n",
       "EMT Firefighter Suppression       351\n",
       "Crossing Guard                    287\n",
       "Police Officer Trainee            280\n",
       "Office Support Specialist III     280\n",
       "Police Officer EID                278\n",
       "Police Sergeant                   234\n",
       "Community Aide                    224\n",
       "Name: JOBTITLE, dtype: int64"
      ]
     },
     "execution_count": 60,
     "metadata": {},
     "output_type": "execute_result"
    }
   ],
   "source": [
    "salary_df['JOBTITLE'].value_counts().head(10)"
   ]
  },
  {
   "cell_type": "markdown",
   "metadata": {},
   "source": [
    "**Ten least common jobs in Baltimore City Government**"
   ]
  },
  {
   "cell_type": "code",
   "execution_count": 61,
   "metadata": {},
   "outputs": [
    {
     "data": {
      "text/plain": [
       "Fire Captain OEM ALS              1\n",
       "Fire Captain Safety & Health      1\n",
       "Fire Captain Special Operation    1\n",
       "Retirement Benefit Manager        1\n",
       "Fire Codes Plan Manager           1\n",
       "Fire Dispatch Manager             1\n",
       "Fire Dispatch Supv Training QA    1\n",
       "Fire Emerg Boat Opr ALS Supp      1\n",
       "Fire Emergency Serv Ins Supv      1\n",
       "Zoning Examiner II                1\n",
       "Name: JOBTITLE, dtype: int64"
      ]
     },
     "execution_count": 61,
     "metadata": {},
     "output_type": "execute_result"
    }
   ],
   "source": [
    "salary_df['JOBTITLE'].value_counts().tail(10)"
   ]
  },
  {
   "cell_type": "markdown",
   "metadata": {},
   "source": [
    "**Employee count per department in Baltimore City Government**"
   ]
  },
  {
   "cell_type": "code",
   "execution_count": 62,
   "metadata": {},
   "outputs": [
    {
     "data": {
      "text/plain": [
       "C90786    230\n",
       "A99416    200\n",
       "P04001    174\n",
       "P04002    156\n",
       "A85301    144\n",
       "A99386    119\n",
       "A90201    118\n",
       "A50207    103\n",
       "A50209    103\n",
       "A38001    103\n",
       "A01001     98\n",
       "A50701     98\n",
       "A49104     92\n",
       "A64604     91\n",
       "A85302     87\n",
       "A70415     86\n",
       "A99372     81\n",
       "A99322     81\n",
       "A50208     80\n",
       "A85001     80\n",
       "         ... \n",
       "A65039      2\n",
       "A75054      2\n",
       "C90910      1\n",
       "B49999      1\n",
       "A33001      1\n",
       "B70404      1\n",
       "A99381      1\n",
       "A65097      1\n",
       "A99349      1\n",
       "A50210      1\n",
       "B70104      1\n",
       "B70374      1\n",
       "A99197      1\n",
       "A99163      1\n",
       "A75         1\n",
       "A90042      1\n",
       "A08001      1\n",
       "A75085      1\n",
       "A67004      1\n",
       "A17         1\n",
       "Name: DEPTID, Length: 673, dtype: int64"
      ]
     },
     "execution_count": 62,
     "metadata": {},
     "output_type": "execute_result"
    }
   ],
   "source": [
    "salary_df['DEPTID'].value_counts()"
   ]
  },
  {
   "cell_type": "markdown",
   "metadata": {},
   "source": [
    "**Top ten departments by employee count in Baltimore City Government**"
   ]
  },
  {
   "cell_type": "code",
   "execution_count": 63,
   "metadata": {},
   "outputs": [
    {
     "data": {
      "text/plain": [
       "C90786    230\n",
       "A99416    200\n",
       "P04001    174\n",
       "P04002    156\n",
       "A85301    144\n",
       "A99386    119\n",
       "A90201    118\n",
       "A50207    103\n",
       "A50209    103\n",
       "A38001    103\n",
       "Name: DEPTID, dtype: int64"
      ]
     },
     "execution_count": 63,
     "metadata": {},
     "output_type": "execute_result"
    }
   ],
   "source": [
    "salary_df['DEPTID'].value_counts().head(10)"
   ]
  },
  {
   "cell_type": "markdown",
   "metadata": {},
   "source": [
    "**Bottom ten departments by employee count in Baltimore City Government**"
   ]
  },
  {
   "cell_type": "code",
   "execution_count": 64,
   "metadata": {},
   "outputs": [
    {
     "data": {
      "text/plain": [
       "B70104    1\n",
       "B70374    1\n",
       "A99197    1\n",
       "A99163    1\n",
       "A75       1\n",
       "A90042    1\n",
       "A08001    1\n",
       "A75085    1\n",
       "A67004    1\n",
       "A17       1\n",
       "Name: DEPTID, dtype: int64"
      ]
     },
     "execution_count": 64,
     "metadata": {},
     "output_type": "execute_result"
    }
   ],
   "source": [
    "salary_df['DEPTID'].value_counts().tail(10)"
   ]
  },
  {
   "cell_type": "markdown",
   "metadata": {},
   "source": [
    "### Data Visualization and Exploratory Data Analysis\n",
    "***... for Salary data in Baltimore City Government***"
   ]
  },
  {
   "cell_type": "code",
   "execution_count": 65,
   "metadata": {},
   "outputs": [
    {
     "data": {
      "image/png": "[encoded data removed]",
      "text/plain": [
       "<Figure size 1080x720 with 1 Axes>"
      ]
     },
     "metadata": {},
     "output_type": "display_data"
    }
   ],
   "source": [
    "plt.style.use('bmh')\n",
    "sns.set_style('whitegrid')\n",
    "plt.figure(figsize=(15,10))\n",
    "salary_df['ANNUAL_RT'].plot.hist(bins=15,alpha=.8)\n",
    "plt.title(\"Histogram showing how many employees gets this annual pay\",fontsize=22)\n",
    "plt.xlabel(\"Annual pay in Dollars\",fontsize=16)\n",
    "plt.ylabel(\"Number of employees\",fontsize=16)\n",
    "plt.show()"
   ]
  },
  {
   "cell_type": "code",
   "execution_count": 66,
   "metadata": {},
   "outputs": [
    {
     "data": {
      "image/png": "[encoded data removed]",
      "text/plain": [
       "<Figure size 1080x720 with 1 Axes>"
      ]
     },
     "metadata": {},
     "output_type": "display_data"
    }
   ],
   "source": [
    "plt.figure(figsize=(15,10))\n",
    "salary_df['GROSS'].plot.hist(bins=15,alpha=.8)\n",
    "plt.title(\"Histogram showing how employees gets this gross pay\",fontsize=22)\n",
    "plt.xlabel(\"Gross pay in Dollars\",fontsize=16)\n",
    "plt.ylabel(\"Number of employees\",fontsize=16)\n",
    "plt.show()"
   ]
  },
  {
   "cell_type": "code",
   "execution_count": 67,
   "metadata": {},
   "outputs": [
    {
     "data": {
      "image/png": "[encoded data removed]",
      "text/plain": [
       "<Figure size 1080x720 with 1 Axes>"
      ]
     },
     "metadata": {},
     "output_type": "display_data"
    }
   ],
   "source": [
    "import numpy as np\n",
    "salary_in_thousands_df = (salary_df['ANNUAL_RT']/1000).to_frame()\n",
    "freq_count = []\n",
    "for i in range(0, 26):\n",
    "    freq_count.append(0)\n",
    "for salary in salary_in_thousands_df['ANNUAL_RT']:\n",
    "    freq_count[int(salary/10)] += 1\n",
    "freq_percent = []\n",
    "for i in range(0, 26):\n",
    "    freq_percent.append(round(freq_count[i]/len(salary_df['ANNUAL_RT'])*100, 2))\n",
    "freq_df = pd.DataFrame({'freq':freq_percent})\n",
    "plt.figure(figsize=(15,10))\n",
    "freq_df['freq'].plot(kind='line')\n",
    "plt.xticks(np.arange(1,27))\n",
    "plt.title(\"Percentage of population getting a certain Annual pay in 10000s\",fontsize=22)\n",
    "plt.xlabel(\"Annual pay in 10000s of Dollars\",fontsize=16)\n",
    "plt.ylabel(\"Percentage of population\",fontsize=16)\n",
    "plt.show()"
   ]
  },
  {
   "cell_type": "markdown",
   "metadata": {},
   "source": [
    "### Key claim: Baltimore City Government does not have high income inequality\n",
    "\n",
    "* **Both annual and gross pay follow a power law curve.**\n",
    "    * Also called the **long tail** is a characteristic that is sometimes observed in statistical distributions.\n",
    "    * In such a distribution a high-frequency population is followed by a low-frequency population.\n",
    "    * The probability of occurrence of scenarios in the long \"tail\" are low.\n",
    "    * Long-tail hints at a possibility of high income inequality.\n",
    "\n",
    "\n",
    "* It is expected that the salaries paid by any organization would follow a pattern:\n",
    "    * Most valuable employee will get highest salary.\n",
    "    * Novice employee will get low salary. \n",
    "    * Most other employees will get close to mean salary. \n",
    "\n",
    "\n",
    "* **This graph shows that Baltimore City Government is no exception to this phenomenon.**\n",
    "\n",
    "\n",
    "* Next, I will process the salary data to look at income ratio between top 0.01% and bottom 99.99% employees to prove determine if there is high income inequality..."
   ]
  },
  {
   "cell_type": "code",
   "execution_count": 68,
   "metadata": {},
   "outputs": [
    {
     "name": "stdout",
     "output_type": "stream",
     "text": [
      "[0.01, 0.01, 0.02, 0.02, 0.040000000000000001, 0.050000000000000003, 0.070000000000000007, 0.16, 0.17999999999999999, 0.25, 0.40000000000000002, 0.67000000000000004, 0.95999999999999996, 1.75, 2.9300000000000002, 4.79, 8.4399999999999995, 17.57, 30.640000000000001, 43.560000000000002, 55.170000000000002, 68.900000000000006, 88.900000000000006, 97.569999999999993, 99.439999999999998, 100.0]\n"
     ]
    }
   ],
   "source": [
    "\"\"\"\n",
    "Frequency percentage list is now reversed. \n",
    "Let's find the index splitting at which will allow computation of salary for top paid 0.01% of \n",
    "employees in Baltimore City Government.\n",
    "\"\"\"\n",
    "count_percent = len(freq_percent)\n",
    "temp_copy = freq_percent.copy()\n",
    "new_percent_list = []\n",
    "for i in range(count_percent):\n",
    "    new_percent_list.append(temp_copy.pop())\n",
    "cumulative_sum_list = np.cumsum(new_percent_list, dtype=float)\n",
    "print([round(cmsum,2) for cmsum in cumulative_sum_list])"
   ]
  },
  {
   "cell_type": "markdown",
   "metadata": {},
   "source": [
    "To find salary of top 1 percent most paid employees let's sum up salaries till index 2 in the reverse list or index 25 of the frequency list"
   ]
  },
  {
   "cell_type": "code",
   "execution_count": 69,
   "metadata": {},
   "outputs": [
    {
     "name": "stdout",
     "output_type": "stream",
     "text": [
      "In total, the top 0.01 percent earns: $250,000.00 \n",
      "and bottom 99.99 percent earns $776,284,524.00 in Baltimore City Government.\n",
      "\n",
      "On an average, each top 0.01 percent employee earns: $250,000.00 \n",
      "and each bottom 99.99 percent employee earns $56,737.65 in Baltimore City Government.\n",
      "\n",
      "The top 0.01 to bottom 99.99 income ratio in Baltimore City Government is: 4.406\n"
     ]
    }
   ],
   "source": [
    "split_index=25\n",
    "freq_cumulative_sum_list_count=1\n",
    "top_1_perccent_salary = 0\n",
    "employees_in_top_1_percent = 0\n",
    "bottom_99_perccent_salary = 0\n",
    "employees_in_bottom_99_percent = 0\n",
    "for salary in salary_in_thousands_df['ANNUAL_RT']:\n",
    "    if int(salary/10) >= split_index:\n",
    "        top_1_perccent_salary += salary*1000\n",
    "        employees_in_top_1_percent += 1\n",
    "    elif int(salary/10) < split_index:\n",
    "        bottom_99_perccent_salary += salary*1000\n",
    "        employees_in_bottom_99_percent += 1\n",
    "print(\"In total, the top\", str(cumulative_sum_list[freq_cumulative_sum_list_count]), \"percent earns:\", \n",
    "      '${:,.2f}'.format(top_1_perccent_salary), \n",
    "      \"\\nand bottom\", str(100-cumulative_sum_list[freq_cumulative_sum_list_count]), \"percent earns\", \n",
    "      '${:,.2f}'.format(bottom_99_perccent_salary), \n",
    "      \"in Baltimore City Government.\")\n",
    "print(\"\\nOn an average, each top\", str(cumulative_sum_list[freq_cumulative_sum_list_count]), \"percent employee earns:\", \n",
    "      '${:,.2f}'.format(top_1_perccent_salary/employees_in_top_1_percent), \n",
    "      \"\\nand each bottom\", str(100-cumulative_sum_list[freq_cumulative_sum_list_count]), \"percent employee earns\", \n",
    "      '${:,.2f}'.format(bottom_99_perccent_salary/employees_in_bottom_99_percent), \n",
    "      \"in Baltimore City Government.\")\n",
    "print(\"\\nThe top\", str(cumulative_sum_list[freq_cumulative_sum_list_count]), \"to bottom\", \n",
    "      str(100-cumulative_sum_list[count_percent-split_index]), \"income ratio in Baltimore City Government is:\", \n",
    "      '{:,.3f}'.format((top_1_perccent_salary/employees_in_top_1_percent)/\n",
    "                       (bottom_99_perccent_salary/employees_in_bottom_99_percent)))"
   ]
  },
  {
   "cell_type": "markdown",
   "metadata": {},
   "source": [
    "**The income ratio between the top 0.01% and bottom 99.99% is 4.406**\n",
    "\n",
    "**Baltimore City Government pays fairly well and does not have a huge income inequality when compared to the ratio for the whole state [which is at 18.9](https://www.epi.org/publication/how-unequal-is-your-state-the-ratio-between-the-average-incomes-of-the-top-1-percent-and-the-bottom-99-percent-in-each-state/)**\n",
    "\n",
    "### Which means my key claim is valid!"
   ]
  },
  {
   "cell_type": "code",
   "execution_count": 70,
   "metadata": {},
   "outputs": [
    {
     "data": {
      "image/png": "[encoded data removed]",
      "text/plain": [
       "<Figure size 1080x720 with 1 Axes>"
      ]
     },
     "metadata": {},
     "output_type": "display_data"
    }
   ],
   "source": [
    "salary_df[['ANNUAL_RT','GROSS']].plot(kind='kde',figsize=(15,10))\n",
    "plt.title('Density plot for Annual Pay and Gross Pay',fontsize=22)\n",
    "plt.xlabel('Salary in Dollars',fontsize=16)\n",
    "plt.show()"
   ]
  },
  {
   "cell_type": "markdown",
   "metadata": {},
   "source": [
    "* Density plots are used to observe a distribution of data over a continuous interval.\n",
    "* Histograms and box plots above did not clearly show the \"twin peaks\" characteristics observed here.\n",
    "* The \"twin peaks\" of the salary density indicates that either there is missing data records for employee salaries or somehow Baltimore City Government has a pay jump in their salary structure!"
   ]
  },
  {
   "cell_type": "markdown",
   "metadata": {},
   "source": [
    "**Average annual pay for the top ten most common jobs in Baltimore City Government**\n",
    "\n",
    "[Link For Bar Chart](https://pythonspot.com/matplotlib-bar-chart/)"
   ]
  },
  {
   "cell_type": "code",
   "execution_count": 71,
   "metadata": {},
   "outputs": [],
   "source": [
    "common_job_filter = salary_df['JOBTITLE'].value_counts().head(10).keys()\n",
    "ten_most_common_job = salary_df[salary_df['JOBTITLE'].isin(common_job_filter)\n",
    "                               ].groupby('JOBTITLE').mean().dropna().sort_values(['ANNUAL_RT'], ascending=True)"
   ]
  },
  {
   "cell_type": "code",
   "execution_count": 72,
   "metadata": {},
   "outputs": [
    {
     "data": {
      "image/png": "[encoded data removed]",
      "text/plain": [
       "<Figure size 1080x720 with 1 Axes>"
      ]
     },
     "metadata": {},
     "output_type": "display_data"
    }
   ],
   "source": [
    "plt.figure(figsize=(15,10))\n",
    "plt.barh(ten_most_common_job.index.values, ten_most_common_job['ANNUAL_RT'])\n",
    "plt.title('Average annual pay of the top ten most common jobs',fontsize=22)\n",
    "plt.xlabel('Average annual pay in Dollars',fontsize=16)\n",
    "plt.ylabel('Ten most common jobs',fontsize=16)\n",
    "plt.show()"
   ]
  },
  {
   "cell_type": "markdown",
   "metadata": {},
   "source": [
    "**Not suprisingly, higher ranked officials for example a Police Seargeant makes more money than a Police Officer**\n",
    "\n",
    "Jobs requiring less specialized training and experience, for example a crossing guard makes less money"
   ]
  },
  {
   "cell_type": "markdown",
   "metadata": {},
   "source": [
    "**Average annual pay for departments that are the top ten employers in Baltimore City Government**"
   ]
  },
  {
   "cell_type": "code",
   "execution_count": 73,
   "metadata": {},
   "outputs": [],
   "source": [
    "top_dept_filter = salary_df['DESCR'].value_counts().head(10).keys()\n",
    "ten_most_common_dept = salary_df[salary_df['DESCR'].isin(top_dept_filter)\n",
    "                               ].groupby('DESCR').mean().dropna().sort_values(['ANNUAL_RT'], ascending=True)"
   ]
  },
  {
   "cell_type": "code",
   "execution_count": 74,
   "metadata": {},
   "outputs": [
    {
     "data": {
      "image/png": "[encoded data removed]",
      "text/plain": [
       "<Figure size 1080x720 with 1 Axes>"
      ]
     },
     "metadata": {},
     "output_type": "display_data"
    }
   ],
   "source": [
    "plt.figure(figsize=(15,10))\n",
    "plt.barh(ten_most_common_dept.index.values, ten_most_common_dept['ANNUAL_RT'])\n",
    "plt.title('Average annual pay for departments that are the top ten employers',fontsize=22)\n",
    "plt.xlabel('Average annual pay in Dollars',fontsize=16)\n",
    "plt.ylabel('Departments that are the top ten employers',fontsize=16)\n",
    "plt.show()"
   ]
  },
  {
   "cell_type": "markdown",
   "metadata": {},
   "source": [
    "**Once more, departments requiring more training or having potentially higher risk factors, for example the Police and Sherrif's department tend to make more money.**"
   ]
  },
  {
   "cell_type": "code",
   "execution_count": 75,
   "metadata": {},
   "outputs": [
    {
     "data": {
      "text/plain": [
       "JOBTITLE\n",
       "Police Officer                   1423\n",
       "Laborer Hourly                    522\n",
       "Recreation Arts Instructor        381\n",
       "EMT Firefighter Suppression       351\n",
       "Crossing Guard                    287\n",
       "Police Officer Trainee            280\n",
       "Office Support Specialist III     280\n",
       "Police Officer EID                278\n",
       "Police Sergeant                   234\n",
       "Community Aide                    224\n",
       "Name: NAME, dtype: int64"
      ]
     },
     "execution_count": 75,
     "metadata": {},
     "output_type": "execute_result"
    }
   ],
   "source": [
    "job_wise_head_count = salary_df.groupby('JOBTITLE').count()['NAME'].sort_values(ascending=False)\n",
    "top_ten_head_count_job_wise = job_wise_head_count.head(10)\n",
    "top_ten_head_count_job_wise"
   ]
  },
  {
   "cell_type": "code",
   "execution_count": 76,
   "metadata": {},
   "outputs": [
    {
     "data": {
      "image/png": "[encoded data removed]",
      "text/plain": [
       "<Figure size 1080x720 with 1 Axes>"
      ]
     },
     "metadata": {},
     "output_type": "display_data"
    }
   ],
   "source": [
    "plt.figure(figsize=(15,10))\n",
    "plt.barh(top_ten_head_count_job_wise.index.values, top_ten_head_count_job_wise)\n",
    "plt.title('Top ten job titles with most employees',fontsize=22)\n",
    "plt.xlabel('Employee count',fontsize=16)\n",
    "plt.ylabel('Job Titles',fontsize=16)\n",
    "plt.show()"
   ]
  },
  {
   "cell_type": "markdown",
   "metadata": {},
   "source": [
    "**The most common job title in Baltimore City Government is that of a Police Officer.**\n",
    "\n",
    "Given the fact that I see articles stating: ['Neighborhoods are crying out': Baltimore has highest homicide rate of U.S. big cities](https://www.baltimoresun.com/news/maryland/crime/bs-md-ci-fbi-data-20180924-story.html) the large police force is probably justified."
   ]
  },
  {
   "cell_type": "markdown",
   "metadata": {},
   "source": [
    "**In most cases, with experience people tend to receive higher salaries.**\n",
    "\n",
    "Next, I will explore if this is true for the Baltimore City Government...\n",
    "\n",
    "[SO help to determine difference of dates](https://stackoverflow.com/questions/8419564/difference-between-two-dates-in-python)"
   ]
  },
  {
   "cell_type": "code",
   "execution_count": 77,
   "metadata": {},
   "outputs": [],
   "source": [
    "from datetime import datetime"
   ]
  },
  {
   "cell_type": "code",
   "execution_count": 78,
   "metadata": {},
   "outputs": [],
   "source": [
    "def years_of_experience(d1):\n",
    "    d1 = datetime.strptime(d1,\"%m/%d/%Y %H:%M:%S %p\")\n",
    "    d2 = datetime.now()\n",
    "    years_of_experience=(abs((d2 - d1).days))//365\n",
    "    return int(years_of_experience)"
   ]
  },
  {
   "cell_type": "code",
   "execution_count": 79,
   "metadata": {},
   "outputs": [],
   "source": [
    "\"\"\"\n",
    "Looking at employees with more than 10 years of experience and not an horly laborer.\n",
    "Also works as one of the top ten most common job titles.\n",
    "\"\"\"\n",
    "top_ten_jobs_filter = top_ten_head_count_job_wise.keys()\n",
    "salary_df['YRS_OF_EXPERIENCE']=salary_df['HIRE_DT'].apply(years_of_experience)\n",
    "salary_df = salary_df[salary_df['YRS_OF_EXPERIENCE'] > 10]\n",
    "salary_df = salary_df[salary_df['JOBTITLE'].isin(top_ten_jobs_filter)]\n",
    "salary_df = salary_df[salary_df['JOBTITLE'] != 'Laborer Hourly']"
   ]
  },
  {
   "cell_type": "code",
   "execution_count": 80,
   "metadata": {},
   "outputs": [
    {
     "data": {
      "image/png": "[encoded data removed]",
      "text/plain": [
       "<Figure size 1080x720 with 1 Axes>"
      ]
     },
     "metadata": {},
     "output_type": "display_data"
    }
   ],
   "source": [
    "plt.figure(figsize=(15,10))\n",
    "plt.scatter(x=salary_df['YRS_OF_EXPERIENCE'], y=salary_df['ANNUAL_RT'], cmap='coolwarm', marker='o', s=20)\n",
    "plt.title('Years of experience vs Annual pay',fontsize=22)\n",
    "plt.xlabel('Years of experience',fontsize=16)\n",
    "plt.ylabel('Annual pay in Dollar',fontsize=16)\n",
    "plt.show()"
   ]
  },
  {
   "cell_type": "code",
   "execution_count": 81,
   "metadata": {},
   "outputs": [
    {
     "data": {
      "text/html": [
       "<div>\n",
       "<style scoped>\n",
       "    .dataframe tbody tr th:only-of-type {\n",
       "        vertical-align: middle;\n",
       "    }\n",
       "\n",
       "    .dataframe tbody tr th {\n",
       "        vertical-align: top;\n",
       "    }\n",
       "\n",
       "    .dataframe thead th {\n",
       "        text-align: right;\n",
       "    }\n",
       "</style>\n",
       "<table border=\"1\" class=\"dataframe\">\n",
       "  <thead>\n",
       "    <tr style=\"text-align: right;\">\n",
       "      <th></th>\n",
       "      <th>ANNUAL_RT</th>\n",
       "      <th>GROSS</th>\n",
       "      <th>YRS_OF_EXPERIENCE</th>\n",
       "    </tr>\n",
       "  </thead>\n",
       "  <tbody>\n",
       "    <tr>\n",
       "      <th>ANNUAL_RT</th>\n",
       "      <td>1.000000</td>\n",
       "      <td>0.874710</td>\n",
       "      <td>0.194875</td>\n",
       "    </tr>\n",
       "    <tr>\n",
       "      <th>GROSS</th>\n",
       "      <td>0.874710</td>\n",
       "      <td>1.000000</td>\n",
       "      <td>0.195895</td>\n",
       "    </tr>\n",
       "    <tr>\n",
       "      <th>YRS_OF_EXPERIENCE</th>\n",
       "      <td>0.194875</td>\n",
       "      <td>0.195895</td>\n",
       "      <td>1.000000</td>\n",
       "    </tr>\n",
       "  </tbody>\n",
       "</table>\n",
       "</div>"
      ],
      "text/plain": [
       "                   ANNUAL_RT     GROSS  YRS_OF_EXPERIENCE\n",
       "ANNUAL_RT           1.000000  0.874710           0.194875\n",
       "GROSS               0.874710  1.000000           0.195895\n",
       "YRS_OF_EXPERIENCE   0.194875  0.195895           1.000000"
      ]
     },
     "execution_count": 81,
     "metadata": {},
     "output_type": "execute_result"
    }
   ],
   "source": [
    "salary_df.corr()"
   ]
  },
  {
   "cell_type": "code",
   "execution_count": 82,
   "metadata": {},
   "outputs": [
    {
     "data": {
      "image/png": "[encoded data removed]",
      "text/plain": [
       "<Figure size 1080x720 with 2 Axes>"
      ]
     },
     "metadata": {},
     "output_type": "display_data"
    }
   ],
   "source": [
    "plt.figure(figsize=(15,10))\n",
    "sns.heatmap(salary_df.corr(),cmap='coolwarm',annot=True)\n",
    "plt.scatter(x=salary_df['YRS_OF_EXPERIENCE'], y=salary_df['ANNUAL_RT'], cmap='coolwarm', marker='o', s=20)\n",
    "plt.title('Correlation heatmap for salary to years of experience',fontsize=22)\n",
    "plt.show()"
   ]
  },
  {
   "cell_type": "markdown",
   "metadata": {},
   "source": [
    "**There is low correlation between the generated field of *\"years of experience\"* and annual pay. This is possible because our assumption that hire date would reflect actual experience is untrue.**"
   ]
  },
  {
   "cell_type": "code",
   "execution_count": 83,
   "metadata": {},
   "outputs": [
    {
     "name": "stdout",
     "output_type": "stream",
     "text": [
      "Total Time taken: 12.085855484008789 seconds\n"
     ]
    }
   ],
   "source": [
    "print('Total Time taken:',time.time() - start_time,'seconds')"
   ]
  },
  {
   "cell_type": "markdown",
   "metadata": {},
   "source": [
    "## Final conclusions from data characterization project of Baltimore City Government salaries\n",
    "\n",
    "While working on this project I learned how to explore data, find anomalies in datasets, cleanup data and fill up missing data points, if necessary.\n",
    "\n",
    "I also learned how to perform a number of different visualization techniques and utilize them to characterize the inherent properties of an unknown dataset.\n",
    "\n",
    "I learned that data headers can be misleading and lead to prejudices but visualizations can help us correct our inferences.\n",
    "\n",
    "**My key conclusion from the project is: Baltimore City Government is a fair wage payer and does not create drastic income inequality.**\n",
    "\n",
    "I observed that **both annual and gross pay exhibit \"long-tail\" characteristics** i.e., there are few \"very high\" or \"very low\" salaries. This led me to the next logical step of determining the ratio of average income for the top 0.01 to bottom 99.99 employees. This came out to 4.406 which when compared to the ratio of [18.9](https://www.epi.org/publication/how-unequal-is-your-state-the-ratio-between-the-average-incomes-of-the-top-1-percent-and-the-bottom-99-percent-in-each-state/) for the whole state, seems to be fairly low.\n",
    "\n",
    "Other conclusions drawn from the analysis and characterization:\n",
    "* \"Police Officer\" is the most common job title and number of officers employed by the government is almost three times the number of next most number of employees by job title. Given that I frequently see articles like this: ['Neighborhoods are crying out': Baltimore has highest homicide rate of U.S. big cities](https://www.baltimoresun.com/news/maryland/crime/bs-md-ci-fbi-data-20180924-story.html), it is not surprising Baltimore City has a large police force. \n",
    "* The average pay for the top, most common job, seem to have taken into account the specialized training, skills required and risks involved. For example, employees in the Police and Sherrif's department tend to make more money than the Crossing Guard.\n",
    "* There is a salary jump in both annual and gross pay in salary structure for the Baltimore City Government, as seen via the \"twin peaks\" characteristic in salary density plots. It could also be possible that there are missing data records in this dataset.\n",
    "* There seems to be very little correlation between the computed field of *\"years of experience\"* and annual pay. This could have happened because the hire date does not represent actual experience. Someone who was recently hired could have years of experience with another organization."
   ]
  }
 ],
 "metadata": {
  "kernelspec": {
   "display_name": "Python 3",
   "language": "python",
   "name": "python3"
  },
  "language_info": {
   "codemirror_mode": {
    "name": "ipython",
    "version": 3
   },
   "file_extension": ".py",
   "mimetype": "text/x-python",
   "name": "python",
   "nbconvert_exporter": "python",
   "pygments_lexer": "ipython3",
   "version": "3.6.6"
  }
 },
 "nbformat": 4,
 "nbformat_minor": 2
}
